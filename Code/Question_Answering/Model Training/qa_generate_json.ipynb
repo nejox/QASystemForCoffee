{
 "cells": [
  {
   "cell_type": "markdown",
   "source": [
    "Target Format:\n",
    "        {'answers':{\n",
    "            'answer_start': [515],\n",
    "            'text': ['Saint Bernadette Soubirous']\n",
    "        },\n",
    "        'context': 'Architecturally, the school has a Catholic character. Atop the Main Building\\'s gold dome is a golden statue of the Virgin Mary. Immediately in front of the Main Building and facing it, is a copper statue of Christ with arms upraised with the legend \"Venite Ad Me Omnes\". Next to the Main Building is the Basilica of the Sacred Heart. Immediately behind the basilica is the Grotto, a Marian place of prayer and reflection. It is a replica of the grotto at Lourdes, France where the Virgin Mary reputedly appeared to Saint Bernadette Soubirous in 1858. At the end of the main drive (and in a direct line that connects through 3 statues and the Gold Dome), is a simple, modern stone statue of Mary.',\n",
    "         'id': '5733be284776f41900661182',\n",
    "         'question': 'To whom did the Virgin Mary allegedly appear in 1858 in Lourdes France?',\n",
    "         'title': 'University_of_Notre_Dame'\n",
    "        }"
   ],
   "metadata": {
    "collapsed": false,
    "pycharm": {
     "name": "#%% md\n"
    }
   }
  },
  {
   "cell_type": "code",
   "execution_count": null,
   "metadata": {},
   "outputs": [],
   "source": [
    "import json\n",
    "\n",
    "def gen_json(context_id, context, question, manufacturer, path=\"\"):\n",
    "    \"\"\"Input context and questions and generate json file for SQuAD format.\n",
    "\n",
    "    Parameters\n",
    "    ----------\n",
    "    context : str\n",
    "        Context of the question.\n",
    "    questions : list of str\n",
    "        List of questions.\n",
    "    \"\"\"\n",
    "    \n",
    "    # remove \\n from string text and question\n",
    "    context = context.replace(\"\\n\", \" \").replace(\"_x0002_\", \"\")\n",
    "    question = question.replace(\"\\n\", \" \").replace(\"_x0002_\", \"\")\n",
    "    \n",
    "    dic = {\n",
    "        \"data\": {\n",
    "            \"text\": context,\n",
    "            \"question\": question,\n",
    "        }\n",
    "    }\n",
    "        \n",
    "    with open(f\"{path}qa_{manufacturer}_{context_id}.json\", \"w\") as f:\n",
    "        json.dump(dic, f)    "
   ]
  },
  {
   "cell_type": "code",
   "execution_count": 22,
   "metadata": {},
   "outputs": [],
   "source": [
    "import pandas as pd\n",
    "\n",
    "qa_df = pd.read_excel(\"qa_excel.xlsx\")"
   ]
  },
  {
   "cell_type": "code",
   "execution_count": 23,
   "metadata": {},
   "outputs": [],
   "source": [
    "for i, row in qa_df.iterrows():\n",
    "    gen_json(i, row[\"Context\"], row[\"Question\"], row['Manufacturer'], path=\"qa_json/\")"
   ]
  },
  {
   "cell_type": "code",
   "execution_count": 13,
   "outputs": [
    {
     "name": "stdout",
     "output_type": "stream",
     "text": [
      "generated sage031 !\n"
     ]
    }
   ],
   "source": [
    "context_id = \"sage031\"\n",
    "context = \"\"\n",
    "\n",
    "questions = [\"When do I have to clean the machine?\",\n",
    "             \"How do I clean the machine?\"\n",
    "\n",
    "\n",
    "]\n",
    "gen_json(context_id, context, questions, path=\"./generated_training_data/\")\n",
    "print(\"generated \" + context_id + \" !\")"
   ],
   "metadata": {
    "collapsed": false,
    "pycharm": {
     "name": "#%%\n"
    }
   }
  }
 ],
 "metadata": {
  "kernelspec": {
   "display_name": "venv",
   "language": "python",
   "name": "python3"
  },
  "language_info": {
   "codemirror_mode": {
    "name": "ipython",
    "version": 3
   },
   "file_extension": ".py",
   "mimetype": "text/x-python",
   "name": "python",
   "nbconvert_exporter": "python",
   "pygments_lexer": "ipython3",
   "version": "3.9.0 (tags/v3.9.0:9cf6752, Oct  5 2020, 15:34:40) [MSC v.1927 64 bit (AMD64)]"
  },
  "orig_nbformat": 4,
  "vscode": {
   "interpreter": {
    "hash": "49e59d4ada6e0bef851f1d179af60acc08f1f5b34c75111af743fbd623efd472"
   }
  }
 },
 "nbformat": 4,
 "nbformat_minor": 2
}