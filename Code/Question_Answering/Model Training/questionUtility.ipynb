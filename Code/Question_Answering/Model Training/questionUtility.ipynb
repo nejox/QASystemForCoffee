{
 "cells": [
  {
   "cell_type": "code",
   "execution_count": 23,
   "metadata": {
    "pycharm": {
     "name": "#%%\n"
    }
   },
   "outputs": [],
   "source": [
    "import pandas as pd\n",
    "import numpy as np"
   ]
  },
  {
   "cell_type": "code",
   "execution_count": 9,
   "metadata": {
    "pycharm": {
     "name": "#%%\n"
    }
   },
   "outputs": [
    {
     "data": {
      "text/html": [
       "<div>\n",
       "<style scoped>\n",
       "    .dataframe tbody tr th:only-of-type {\n",
       "        vertical-align: middle;\n",
       "    }\n",
       "\n",
       "    .dataframe tbody tr th {\n",
       "        vertical-align: top;\n",
       "    }\n",
       "\n",
       "    .dataframe thead th {\n",
       "        text-align: right;\n",
       "    }\n",
       "</style>\n",
       "<table border=\"1\" class=\"dataframe\">\n",
       "  <thead>\n",
       "    <tr style=\"text-align: right;\">\n",
       "      <th></th>\n",
       "      <th>File</th>\n",
       "      <th>Question</th>\n",
       "      <th>Context</th>\n",
       "    </tr>\n",
       "  </thead>\n",
       "  <tbody>\n",
       "    <tr>\n",
       "      <th>0</th>\n",
       "      <td>AEG/cm4_1_6st/cm4_1_6st_bedienungsanleitung.pdf</td>\n",
       "      <td>When should I decalcify my machine?</td>\n",
       "      <td>Decalcifying: Recommended 1x every 3 months Wi...</td>\n",
       "    </tr>\n",
       "    <tr>\n",
       "      <th>1</th>\n",
       "      <td>NaN</td>\n",
       "      <td>Can I use spare parts of other manufacturers?</td>\n",
       "      <td>Thank you for choosing an AEG product. In orde...</td>\n",
       "    </tr>\n",
       "    <tr>\n",
       "      <th>2</th>\n",
       "      <td>NaN</td>\n",
       "      <td>How should the machine be placed when starting...</td>\n",
       "      <td>GETTING STARTED Place the machine on a flat su...</td>\n",
       "    </tr>\n",
       "    <tr>\n",
       "      <th>3</th>\n",
       "      <td>NaN</td>\n",
       "      <td>How do you clean the machine before using it f...</td>\n",
       "      <td>NaN</td>\n",
       "    </tr>\n",
       "    <tr>\n",
       "      <th>4</th>\n",
       "      <td>NaN</td>\n",
       "      <td>What is the water-level indicator inside the w...</td>\n",
       "      <td>NaN</td>\n",
       "    </tr>\n",
       "    <tr>\n",
       "      <th>...</th>\n",
       "      <td>...</td>\n",
       "      <td>...</td>\n",
       "      <td>...</td>\n",
       "    </tr>\n",
       "    <tr>\n",
       "      <th>156</th>\n",
       "      <td>NaN</td>\n",
       "      <td>How do you clean the water tank?</td>\n",
       "      <td>NaN</td>\n",
       "    </tr>\n",
       "    <tr>\n",
       "      <th>157</th>\n",
       "      <td>NaN</td>\n",
       "      <td>How do you clean the steam nozzle?</td>\n",
       "      <td>NaN</td>\n",
       "    </tr>\n",
       "    <tr>\n",
       "      <th>158</th>\n",
       "      <td>NaN</td>\n",
       "      <td>How do you clean the hot water spout?</td>\n",
       "      <td>NaN</td>\n",
       "    </tr>\n",
       "    <tr>\n",
       "      <th>159</th>\n",
       "      <td>NaN</td>\n",
       "      <td>How do you clean the inside of the appliance?</td>\n",
       "      <td>NaN</td>\n",
       "    </tr>\n",
       "    <tr>\n",
       "      <th>160</th>\n",
       "      <td>NaN</td>\n",
       "      <td>How do you store the appliance?</td>\n",
       "      <td>NaN</td>\n",
       "    </tr>\n",
       "  </tbody>\n",
       "</table>\n",
       "<p>161 rows × 3 columns</p>\n",
       "</div>"
      ],
      "text/plain": [
       "                                                File  \\\n",
       "0    AEG/cm4_1_6st/cm4_1_6st_bedienungsanleitung.pdf   \n",
       "1                                                NaN   \n",
       "2                                                NaN   \n",
       "3                                                NaN   \n",
       "4                                                NaN   \n",
       "..                                               ...   \n",
       "156                                              NaN   \n",
       "157                                              NaN   \n",
       "158                                              NaN   \n",
       "159                                              NaN   \n",
       "160                                              NaN   \n",
       "\n",
       "                                              Question  \\\n",
       "0                  When should I decalcify my machine?   \n",
       "1        Can I use spare parts of other manufacturers?   \n",
       "2    How should the machine be placed when starting...   \n",
       "3    How do you clean the machine before using it f...   \n",
       "4    What is the water-level indicator inside the w...   \n",
       "..                                                 ...   \n",
       "156                   How do you clean the water tank?   \n",
       "157                 How do you clean the steam nozzle?   \n",
       "158              How do you clean the hot water spout?   \n",
       "159      How do you clean the inside of the appliance?   \n",
       "160                    How do you store the appliance?   \n",
       "\n",
       "                                               Context  \n",
       "0    Decalcifying: Recommended 1x every 3 months Wi...  \n",
       "1    Thank you for choosing an AEG product. In orde...  \n",
       "2    GETTING STARTED Place the machine on a flat su...  \n",
       "3                                                  NaN  \n",
       "4                                                  NaN  \n",
       "..                                                 ...  \n",
       "156                                                NaN  \n",
       "157                                                NaN  \n",
       "158                                                NaN  \n",
       "159                                                NaN  \n",
       "160                                                NaN  \n",
       "\n",
       "[161 rows x 3 columns]"
      ]
     },
     "execution_count": 9,
     "metadata": {},
     "output_type": "execute_result"
    }
   ],
   "source": [
    "df = pd.read_csv('questionsJochenUTF8.csv', sep=';')\n",
    "df"
   ]
  },
  {
   "cell_type": "code",
   "execution_count": 28,
   "metadata": {
    "pycharm": {
     "name": "#%%\n"
    }
   },
   "outputs": [
    {
     "name": "stdout",
     "output_type": "stream",
     "text": [
      "Decalcifying: Recommended 1x every 3 months With decalcifying agent\n",
      "Thank you for choosing an AEG product. In order to ensure the best results, always use original AEG accessories and spare parts. They have been designed especially for your product. This product is designed with the environment in mind. All plastic parts are marked for recycling purposes. Visit our website to: Get usage advice, brochures, trouble shooter, service information: www.aeg.com/webselfservice Register your product for better service: www.registeraeg.com Buy Accessories and Consumables for your appliance: www.aeg.com/shop CUSTOMER CARE AND SERVICE When contacting Service, ensure that you have the following data available. The information can be found on the rating plate. Model, PNC, Serial Number. Warning / Caution-Safety information General information and tips Environmental information\n",
      "GETTING STARTED Place the machine on a flat surface. When starting the machine for the first time, fill the tank with cold water. Start the machine with the ON/OFF switch. Let a full tank of water pass through the machine once or twice to clean it, without using paper filter or coffee. Making coffee: open the lid and fill the water tank with fresh cold water up to the desired level. There is a water-level indicator for 2–10 big cups / 3–15 small cups inside the water tank. Insert paper filter into filter basket and fill it with ground coffee. There is a gauge for recommended number of spoons of coffee next to the water gauge. For medium-strength coffee, one measuring spoon (approx. 6-7 g) per cup is sufficient. Close the water tank lid and place the jug (complete with lid) onto the warming plate. Start the machine with the ON/OFF switch. The power indicator light will come on and hot water will flow into the filter. When water has stopped flowing, the warming plate keeps the coffee hot until the machine is turned off with the ON/OFF switch. If the machine is not turned off manually, the Safety Auto-Off function turns it off after 40 minutes. If the jug is removed, the filter valve prevents coffee from dripping onto the warming plate. While boiling, the jug must not be removed for longer than 30 seconds or the filter will overflow. The Aroma Selector extends the brewing time to maximize the flavour extraction and get a stronger coffee for a small number of cups (normally less than 6). Press the Aroma button, and the aroma icon will turn on.\n"
     ]
    }
   ],
   "source": [
    "context = \"\"\n",
    "question = \"\"\n",
    "\n",
    "jsonDic = {}\n",
    "jsonList = []\n",
    "idx = 0\n",
    "contextCounter = 0\n",
    "\n",
    "for index, row in df.iterrows():\n",
    "    if pd.isnull(row['Context']) == False:\n",
    "        context = row['Context']\n",
    "        print(context)\n",
    "        contextCounter += 1\n",
    "    question = row['Question']\n",
    "    #jsonDic[idx] = {\"context\": context, \"question\": question}\n",
    "    jsonList.append({\"context\": context, \"question\": question})\n",
    "    idx += 1\n"
   ]
  },
  {
   "cell_type": "code",
   "execution_count": 25,
   "metadata": {
    "pycharm": {
     "name": "#%%\n"
    }
   },
   "outputs": [
    {
     "data": {
      "text/plain": [
       "161"
      ]
     },
     "execution_count": 25,
     "metadata": {},
     "output_type": "execute_result"
    }
   ],
   "source": [
    "len(jsonList)"
   ]
  },
  {
   "cell_type": "code",
   "execution_count": 26,
   "metadata": {
    "pycharm": {
     "name": "#%%\n"
    }
   },
   "outputs": [
    {
     "data": {
      "text/plain": [
       "161"
      ]
     },
     "execution_count": 26,
     "metadata": {},
     "output_type": "execute_result"
    }
   ],
   "source": [
    "contextCounter"
   ]
  },
  {
   "cell_type": "code",
   "execution_count": 17,
   "metadata": {
    "pycharm": {
     "name": "#%%\n"
    }
   },
   "outputs": [],
   "source": [
    "import json\n",
    "\n",
    "json.dump(jsonList, open('questionsJochen.json', 'w'))"
   ]
  }
 ],
 "metadata": {
  "kernelspec": {
   "display_name": "Python 3",
   "language": "python",
   "name": "python3"
  },
  "language_info": {
   "codemirror_mode": {
    "name": "ipython",
    "version": 3
   },
   "file_extension": ".py",
   "mimetype": "text/x-python",
   "name": "python",
   "nbconvert_exporter": "python",
   "pygments_lexer": "ipython3",
   "version": "3.9.13"
  },
  "orig_nbformat": 4,
  "vscode": {
   "interpreter": {
    "hash": "21a5f8a8ea2df4750af846b3a96d1d1630dd100971869a8cd09deacba9f8eba0"
   }
  }
 },
 "nbformat": 4,
 "nbformat_minor": 2
}