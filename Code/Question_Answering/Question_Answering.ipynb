{
 "cells": [
  {
   "cell_type": "code",
   "execution_count": 16,
   "outputs": [],
   "source": [
    "from sentence_transformers import SentenceTransformer, util\n",
    "from transformers import pipeline\n",
    "import json\n",
    "import numpy as np\n",
    "import warnings\n",
    "warnings.simplefilter(action='ignore', category=FutureWarning)"
   ],
   "metadata": {
    "collapsed": false,
    "pycharm": {
     "name": "#%%\n"
    }
   }
  },
  {
   "cell_type": "code",
   "execution_count": 17,
   "outputs": [
    {
     "data": {
      "text/plain": "[{'headerId': 1,\n  'headerText': '1. FUNDAMENTAL SAFETY WARNINGS',\n  'paragraphText': '• The appliance is not intended for use by persons (including children) with reduced physical, sensory or mental capabilities, or lack of experience and knowledge, unless they have been given supervision or instruction concerning use of the appliance by a person responsible for their safety. • Children should be supervised to ensure that they do not play with the appliance. • Designated use: this appliance is designed and made to prepare coffee and milk based beverages and hot water. Any other use is considered improper and thus dan- gerous. The manufacturer is not liable for damage deriving from improper use of the appliance. • The surface of the heating element remains hot after use and the outside of the appli- ance may retain the heat for several minutes depending on use. • To clean, follow the instructions in the section “14. Cleaning”. • Cleaning and user maintenance shall not be made by children without supervision. • Never clean by immersing the appliance in water. • CAUTION: To prevent damage to the appliance do not use alkaline cleaning agents when cleaning, use a soft cloth and a mild detergent • This is a household appliance only. It is not intended to be used in: staff kitchen areas in shops, offices and other working environments; farm houses; by clients in hotels, mo- tels and other residential type environments; bed and breakfast type environments. • If the plug or cord is damaged, it must be replaced by Customer Services only to avoid all risk. • Appliances with removable cord: avoid splashes of water on the power cord connector or socket at the back of the appliance. FOR EUROPEAN MARKETS ONLY: • This appliance can be used by children aged from 8 years and above if they have been given supervision or instruction concerning use of the appliance in a safe way and understand the hazards involved. User cleaning and maintenance shall not be made by children unless they are above 8 years old and supervised. Keep the appliance and power cord away from children under 8 years of age. • Appliances can be used by persons with reduced physical, sensory or mental capabil- ities or lack of experience and knowledge if they are supervised or have been given instruction concerning use of the appliance in a safe way and if they understand the hazards involved. 8 • Children shall not play with the appliance. • Always unplug the appliance when left unattended and before assembly, taking apart or cleaning. Surfaces marked with this symbol become hot during use (the symbol is present in certain models only).',\n  'headerChildren': []},\n {'headerId': 2,\n  'headerText': '2. SAFETY WARNINGS',\n  'paragraphText': '2.1 Symbols used in these instructions Important warnings are identified by these symbols. It is vital to follow these warnings. Danger! Failure to observe the warning may result in life threatening injury by electric shock. Important! Failure to observe the warning could result in injury or damage to the appliance. Danger of burns! Failure to observe the warning could result in scalds or burns. Please note: This symbol identifies important advice or information for the user. Danger! This is an electrical appliance and may cause electric shock. You should therefore follow these safety warnings: • Never touch the appliance with damp hands or feet. • Never touch the plug with damp hands. • Make sure the socket used is freely accessible at all times, enabling the appliance to be unplugged when necessary. • Unplug directly from the plug only. Never pull the cord as you could damage it. • To disconnect the appliance completely you must unplug it from the mains socket. • If the appliance is faulty, do not attempt to repair. Turn it off, unplug from the mains socket and contact Cus- tomer Services. • Before cleaning the appliance, turn it off, unplug from the mains socket and allow to cool. Important: Keep all packaging (plastic bags, polystyrene foam) away from children.',\n  'headerChildren': [{'subHeaderId': 1,\n    'subHeaderText': 'Danger of burns!',\n    'paragraphText': 'This appliance produces hot water and steam may form while it is in operation. Avoid contact with splashes of water or hot steam. When the appliance is in operation, the cup shelf could become very hot.'},\n   {'subHeaderId': 2,\n    'subHeaderText': '2.2 Designated use',\n    'paragraphText': 'This appliance is designed and made to prepare coffee and heat drinks. Any other use is considered improper and thus dangerous. The manufacturer is not liable for damage deriving from improper use of the appliance.'},\n   {'subHeaderId': 3,\n    'subHeaderText': '2.3 Instruction for Use',\n    'paragraphText': 'Read this Instruction for Use carefully before using the appli- ance. Failure to follow this Instruction for Use may result in burns or damage to the appliance. The manufacturer is not liable for damage deriving from failure to respect this Instruction for Use. Please note: Keep this Instruction for Use. If the appliance is passed to other persons, they must also be provided with this Instruction for Use.'}]},\n {'headerId': 3,\n  'headerText': '3. INTRODUCTION',\n  'paragraphText': 'Thank you for choosing this bean to cup espresso and cappuc- cino machine. We hope you enjoy using your new appliance. Take a few min- utes to read this Instruction for Use. This will avoid all risks and damage to the appliance.',\n  'headerChildren': [{'subHeaderId': 1,\n    'subHeaderText': '3.1 Letters in brackets',\n    'paragraphText': 'The letters in brackets refer to the legend in the description of the appliance on page 2-3.'},\n   {'subHeaderId': 2,\n    'subHeaderText': '3.2 Troubleshooting and repairs',\n    'paragraphText': 'In the event of problems, first try and resolve them by reading the information given in the “20. Explanation of lights” and “19. Troubleshooting” sections. If this does not resolve the problem or you require further in- formation, you should consult Customer Services by calling the number given on the annexed “Customer Service” sheet. 9 If your country is not among those listed on the sheet, call the number given in the guarantee. If repairs are required, contact De’Longhi Customer Services only. The addresses are given in the guarantee certificate provided with the machine.'}]},\n {'headerId': 4,\n  'headerText': '4. DESCRIPTION',\n  'paragraphText': '',\n  'headerChildren': [{'subHeaderId': 1,\n    'subHeaderText': '4.1 Description of the appliance',\n    'paragraphText': '(page 3 - A ) A1. Control panel A2. Grinding adjustment dial A3. Cup shelf A4. Beans container lid A5. Pre-ground coffee funnel lid A6. Pre-ground coffee funnel A7. Beans container A8. Main switch A9. Water tank A10. Infuser door A11. Infuser A12. Coffee spouts (adjustable height) A13. Coffee grounds container A14. Condensate tray A15. Cup tray A16. Drip tray water level indicator A17. Drip tray A18. Cappuccino maker A19. Steam/hot water dial'},\n   {'subHeaderId': 2,\n    'subHeaderText': '4.2 Description of the control panel',\n    'paragraphText': '(page 2 - B ) B1. Lights B2. button: turns the appliance on and off B3. button: to make 1 cup of short espresso coffee. B4. button: to make 2 cups of short espresso coffee. B5. button: to rinse or descale the appliance B6. Selection dial: turn to select coffee quantity or to use pre- ground coffee B7. button: to deliver steam to make hot milk-based coffees B8. button: to make 1 cup of long espresso coffee B9. button: to make 2 cups of long espresso coffee.'},\n   {'subHeaderId': 3,\n    'subHeaderText': '4.3 Description of the accessories',\n    'paragraphText': '(page 2 - C ) C1. “Total Hardness Test” indicator paper C2. Measure C3. Descaler bottle C4. Water softener filter'},\n   {'subHeaderId': 4,\n    'subHeaderText': '4.4 Description of lights',\n    'paragraphText': 'Light flashing: the machine is heating up. The appliance is delivering one or two cups of short coffee. The appliance is delivering one or two cups of long coffee. Light on steadily: the “steam” function has been selected; Light flashing: you must turn the steam dial. An alarm is displayed on the control panel (see the section “19. Explanation of lights”). Light on steadily: the coffee grounds container must be inserted; Light flashing: the grounds container is full and must be emptied. Light on steadily: the water tank is missing; Light flashing: there is not enough water in the tank. Light flashing: the appliance must be descaled (see the section “15. Descaling”). Light on steadily: the appliance is performing a descaling cycle. ECO “Energy Saving” mode is active.'}]},\n {'headerId': 5,\n  'headerText': '5. BEFORE USE',\n  'paragraphText': '',\n  'headerChildren': [{'subHeaderId': 1,\n    'subHeaderText': '5.1 Checking the appliance',\n    'paragraphText': 'After removing the packaging, make sure the product is com- plete and undamaged and that all accessories are present. Do not use the appliance if it is visibly damaged. Contact De’Longhi Customer Services.'},\n   {'subHeaderId': 2,\n    'subHeaderText': '5.2 Installing the appliance',\n    'paragraphText': 'Important! When you install the appliance, you should respect the follow- ing safety warnings: 10 • The appliance could be damaged if the water it contains freezes. Do not install the appliance in a room where the tempera- ture could drop below freezing point. • The appliance gives off heat. After positioning the appli- ance on the worktop, leave a space of at least 3 cm be- tween the surfaces of the appliance and the side and rear walls and at least 15 cm above the coffee machine. • Water penetrating the coffee machine could cause damage. Do not place the appliance near taps or sinks. • Arrange the cord in such a way that it cannot be damaged by sharp edges or contact with hot surfaces (e.g. electric hot plates).'},\n   {'subHeaderId': 3,\n    'subHeaderText': '5.3 Connecting the appliance',\n    'paragraphText': 'Important! Check that the mains power supply voltage corresponds to that indicated on the rating plate on the bottom of the appliance. Connect the appliance to an efficiently earthed and correctly installed socket with a minimum current rating of 10A only. If the power socket does not match the plug on the appliance, have the socket replaced with a suitable type by a qualified professional.'},\n   {'subHeaderId': 4,\n    'subHeaderText': '5.4 Setting up the appliance',\n    'paragraphText': 'Please note: • Coffee has been used to factory test the appliance and it is therefore completely normal for there to be traces of cof- fee in the mill. The machine is, however, guaranteed to be new. • You should customise water hardness as soon as possible following the instructions in the section: “16. Setting water hardness”. Proceed as described: 1. Remove the water tank (A9), fill to the MAX line with fresh water (fig. 1A) then put back in the appliance (fig. 1B). 2. Place a container with a minimum capacity of 100 ml under the cappuccino maker (A18) (fig. 2). 3. Plug the appliance into the mains socket and place the main switch (A8) on the back of the appliance in the I posi- tion (fig. 3). 4. The light flashes on the control panel (B7, fig. 4). 5. Turn the steam dial (A19) to the I position (fig. 5). Water is delivered from the cappuccino maker, then the appliance goes off. 6. Turn the steam dial to the 0 position. The coffee machine is now ready for normal use. Please note: • The first time you use the coffee maker, you need to make 4/5 cups of coffee or 4/5 cappuccinos before it starts to give satisfactory results. • To enjoy your coffee even more and improve the perfor- mance of your appliance, we recommend installing a water softener filter (C4) as described in the section “10. WATER SOFTENER FILTER”. If your model is not provided with a fil- ter, you can request one from De’Longhi Customer Services.'}]},\n {'headerId': 6,\n  'headerText': '6. TURNING THE APPLIANCE ON',\n  'paragraphText': 'Please note: • Before turning the appliance on, make sure the main switch (A8) on the back of the appliance is in the I position (fig. 3). • Each time the appliance is turned on, it performs an auto- matic preheat and rinse cycle which cannot be interrupt- ed. The appliance is ready for use only once this cycle is complete.',\n  'headerChildren': [{'subHeaderId': 1,\n    'subHeaderText': 'Danger of burns!',\n    'paragraphText': 'During rinsing, a little hot water comes out of the coffee spouts (A12) and is collected in the drip tray underneath. Avoid contact with splashes of water. • To turn the appliance on, press the button (B2, fig. 6). The light flashes while the appliance is heating up and performing an automatic rinse cycle. By circulating hot water, the appliance heats both the boiler and the internal circuits. The appliance is at temperature when the light goes off and the coffee lights come on.'}]},\n {'headerId': 7,\n  'headerText': '7. TURNING THE APPLIANCE OFF',\n  'paragraphText': 'Whenever the coffee machine is turned off after being used to make coffee, it performs an automatic rinse cycle.',\n  'headerChildren': [{'subHeaderId': 1,\n    'subHeaderText': 'Danger of burns!',\n    'paragraphText': 'During rinsing, a little hot water flows from the coffee spouts (A12). Avoid contact with splashes of water. To turn the appliance off, press the button (B2, fig. 6). The appliance performs a rinse cycle then goes off. Please note: If the appliance is not used for an extended period, place the main switch (A8) in the 0 position (fig. 3). Important! To avoid damaging the appliance, do not place the main switch (fig. 3) in the 0 position until you have turned the appliance off with the button. 11'}]},\n {'headerId': 8,\n  'headerText': '8. AUTO-OFF',\n  'paragraphText': 'The time can be changed so that the appliance switches off after being idle for 15 or 30 minutes, or after 1, 2 or 3 hours. To change the Auto-off setting, proceed as follows: 1. With the appliance off and the main switch (A8) in the I po- sition (fig. 3), press the button (B9) and hold it down until the lights on the control panel come on. 2. Press the button (B3, on the left of the dial B6) until the lights corresponding to the delay before the appliance goes off automatically come on: 15 minutes ECO 30 minutes ECO 1 hour ECO 2 hours ECO 3 hours ECO 3. Press the button (B8, on the right of the dial) to confirm the selection. The lights go off.',\n  'headerChildren': []},\n {'headerId': 9,\n  'headerText': '9. ENERGY SAVING',\n  'paragraphText': 'Use this function to enable or disable energy saving. When en- abled, the function reduces energy consumption in compliance with European regulations. Energy saving mode is active when the green ECO light is on (fig. 7). 1. With the appliance off and the main switch (A8) in the I position (fig. 3), press the button (B7) and hold it down until the ECO light (fig. 7) come on. 2. To disable the mode, press the button (on the left of the dial). The ECO light flashes. 3. To re-enable the mode, press the button (on the left of the dial) again. The ECO light comes on steadily. 4. Press the button (on the right of the dial) to confirm the selection. The ECO light goes off. Please note: When in energy saving mode, a few seconds may elapse before the first coffee is delivered as the appliance must heat up again.',\n  'headerChildren': []},\n {'headerId': 10,\n  'headerText': '10. WATER SOFTENER FILTER (CERTAIN MODELS ONLY)',\n  'paragraphText': 'Certain models are fitted with a water softener filter (C4). If this is not the case with your model, you are recommended to pur- chase one from De’Longhi Customer Services. Important: • Keep in a cool dry place out of direct sunlight. • After opening the packaging, use the filter at once. • Remove the filter before descaling the machine. To use the filter correctly, follow the instructions below.',\n  'headerChildren': [{'subHeaderId': 1,\n    'subHeaderText': '10.1 Installing the filter',\n    'paragraphText': '1. Take the filter (C4) out of its packet and rinse under about 0.5 litre of running water (fig. 8) 2. Turn the date indicator disk until the next two months of use are displayed (fig 9). Please note: The filter lasts about two months if the appliance is used nor- mally. If the coffee machine is left unused with the filter in- stalled, it will last a maximum of three weeks. 3. Extract the tank (A9) from the appliance and fill with water (fig. 1A). 4. Insert the filter in the water tank and immerse it complete- ly, sloping it to enable the air bubbles to escape (fig. 10). 5. Insert the filter into the filter housing and press as far as it will go (fig.11). 6. Close the tank with the lid (fig. 12), then replace the tank in the machine. 7. Place a container with a minimum capacity of 500 ml under the cappuccino maker (A18). 8. Turn the steam dial (A19) to the I position to deliver hot water. 9. Deliver at least 500 ml of hot water, then turn the hot water/steam dial back to the 0 position. Please note: Occasionally one delivery of hot water is not enough to install the filter and the lights will come on during installation. If this happens repeat the installation procedure from point 8. The filter is now active and you can use the coffee machine.'},\n   {'subHeaderId': 2,\n    'subHeaderText': '10.2 Removal and replacement of the water',\n    'paragraphText': 'softener filter After two months (see date indicator disk), or if the appliance has not been used for 3 weeks, the filter (C4) must be removed from the tank (A9) and replaced with a new one. Then the in- stallation procedure above must be repeated.'}]},\n {'headerId': 11,\n  'headerText': '11. MAKING COFFEE',\n  'paragraphText': '11.1 Selecting the coffee taste Turn the coffee taste selection dial (B9) to set the required taste. Turning it clockwise increases the quantity of coffee beans the appliance will grind and therefore the strength of the coffee obtained. Turn the dial to MIN for an extra mild coffee and to MAX for an extra strong coffee. 12 Please note: • The first time you use the appliance, you will need to make a number of coffees to identify the correct dial position through trial and error. • Do not turn the dial too far towards MAX, otherwise the coffee may be delivered too slowly (a drop at a time), par- ticularly when making two cups of coffee at the same time.',\n  'headerChildren': [{'subHeaderId': 1,\n    'subHeaderText': '11.2 Selecting the quantity of coffee in the cup',\n    'paragraphText': 'The appliance is set by default to automatically make the fol- lowing quantities of coffee: - short coffee when the button (B3) is pressed (≃40ml); - long coffee when the button (B8) is pressed (≃120ml); - two short coffees when the button (B4) is pressed; - two long coffees when the button (B9) is pressed. To change the quantity of coffee the appliance delivers auto- matically into the cup, proceed as described below: - press the button corresponding to the quantity to be mod- ified and hold it down until the light flashes and the appli- ance starts delivering coffee, then release; - when the coffee in the cup reaches the desired level, press the same button again to memorise the new amount. The machine is now reprogrammed with the new quantities.'},\n   {'subHeaderId': 2,\n    'subHeaderText': '11.3 Adjusting the coffee mill',\n    'paragraphText': 'The coffee mill is set by default to prepare coffee correctly and should not require regulating initially. However, if after making the first few coffees you find that the coffee is either too weak and not creamy enough or delivery is too slow (a drop at a time), this can be corrected by adjusting the grinding adjustment dial (A2) (fig. 13). Please note: The grinding adjustment dial (A2) must only be turned when the coffee mill is in operation. If the coffee is delivered too slowly or not at all, turn one click clockwise. For fuller bodied creamier coffee, turn one click anticlockwise (do not turn more than one click at a time other- wise the coffee could be delivered a drop at a time). These adjustments will only be evident after at least 2 cups of coffee have been delivered. If this adjustment does not obtain the desired result, turn the dial another click.'},\n   {'subHeaderId': 3,\n    'subHeaderText': '11.4 Setting the temperature',\n    'paragraphText': 'To modify the temperature of the water used to make the coffee, proceed as follows: 1. With the appliance off and the main switch in the I position (fig. 3), press the button (B3) and hold it down until the lights on the control panel come on; 2. Press the button to select the required temperature: LOW HIGH 3. Press the button (B8) to confirm the selection. The lights go off.'},\n   {'subHeaderId': 4,\n    'subHeaderText': '11.5 Tips for a hotter coffee',\n    'paragraphText': 'For hotter coffee, you should: • before delivering the coffee, perform a rinse cycle by press- ing the button (B5). Hot water is delivered from the spouts, heating the internal circuits of the appliance and thus raising the coffee temperature; • warm the cups with hot water (using the hot water function). • set a hotter coffee temperature (see the section “Setting the temperature”).'},\n   {'subHeaderId': 5,\n    'subHeaderText': '11.6 Making coffee using coffee beans',\n    'paragraphText': 'Important! Do not use caramelised or candied coffee beans as they could stick to the coffee mill and damage it. 1. Fill the container (A7, fig. 14) with coffee beans. 2. Place under the coffee spouts (A12): - 1 cup, if you want to make 1 coffee (fig. 15); - 2 cups, if you want 2 coffees (fig. 16). 3. Lower the spouts as near as possible to the cup. This makes a creamier coffee (fig. 17). 4. Press the button corresponding to the required coffee: 13 5. Preparation begins and the light corresponding to the se- lected button flashes on the control panel. Once the coffee has been made, the appliance is ready to make the next drink. Please note: • While the machine is making coffee, delivery can be in- terrupted at any moment by pressing one of the coffee buttons. • At the end of delivery, to increase the quantity of coffee in the cup, just press one of the coffee icons (within 3 seconds). Please note: For hotter coffee, see the section'},\n   {'subHeaderId': 6,\n    'subHeaderText': '“11.5. Tips for a hotter',\n    'paragraphText': 'coffee”. Important! • If the coffee is delivered a drop at a time, too weak and not creamy enough or too cold, read the tips in the section “20. Troubleshooting”. • Lights may be displayed on the control panel during use. Their meaning is given in the section “19. Explanation of the lights.'},\n   {'subHeaderId': 7,\n    'subHeaderText': '11.7 Making coffee using pre-ground coffee',\n    'paragraphText': 'Important! • Never place coffee beans in the pre-ground coffee funnel as this could damage the appliance. • Never add pre-ground coffee when the machine is off or it could spread through the inside of the machine and dirty it. This could damage the appliance. • Never use more than 1 level measure or it could dirty the inside of the coffee machine or block the funnel.'},\n   {'subHeaderId': 8,\n    'subHeaderText': 'Please note:',\n    'paragraphText': 'When you use pre-ground coffee, you can only make one cup of coffee at a time. 1. Make sure the appliance is on. 2. Turn the coffee taste selection dial (B6) anticlockwise as far as it will go to the position (fig. 18). 3. Make sure the funnel is not blocked, then add one level measure (C2) of pre-ground coffee (fig. 19). 4. Place a cup under the coffee spouts (A12). 5. Press the corresponding 1 cup coffee button ( B3 or B8). 6. Preparation begins.'}]},\n {'headerId': 12,\n  'headerText': '12. MAKING CAPPUCCINO',\n  'paragraphText': '',\n  'headerChildren': [{'subHeaderId': 1,\n    'subHeaderText': 'Danger of burns!',\n    'paragraphText': 'During preparation steam is given off. Take care to avoid scalds. 1. When preparing cappuccino, make the coffee in a large cup; 2. Fill a container (preferably one with a handle to avoid scalding) with about 100 ml of milk for each cappuccino. In choosing the size of the container, bear in mind that the milk doubles or triples in volume; Please note: For a richer denser froth, use skimmed or partially skimmed milk at refrigerator temperature (about 5°C). To avoid milk with poor froth or large bubbles, always clean the cappuc- cino maker (A18) as described in the section “Cleaning the cappuccino maker after use”. 3. Press the button (B7). The light flashes. 4. Immerse the cappuccino maker in the milk container (fig. 20). 5. After a few seconds, when the light flashes, turn the steam dial (A19) to the I position (fig. 5). Steam is deliv- ered from the cappuccino maker, giving the milk a creamy frothy appearance and making it more voluminous; 6. For a creamier froth, rotate the container with slow move- ments in an upward direction. (You should not deliver steam for more than 3 minutes at a time); 7. When you have obtained the required froth, stop steam delivery by turning the steam dial back to the 0 position.'},\n   {'subHeaderId': 2,\n    'subHeaderText': 'Danger of burns!',\n    'paragraphText': 'Stop steam delivery before removing the container with the frothed milk to avoid burns caused by splashes of boil- ing milk. 8. Add the milk froth to the coffee prepared previously. The cappuccino is ready. Sweeten to taste and, if desired, sprin- kle the froth with a little cocoa powder.'},\n   {'subHeaderId': 3,\n    'subHeaderText': '12.1 Cleaning the cappuccino maker after use',\n    'paragraphText': 'Always clean the cappuccino maker (A18) after use to avoid the build-up of milk residues and prevent the spouts from clogging. 1. Place a container under the cappuccino maker and deliver a little water for a few seconds by rotating the steam dial (A19) to the I position (fig. 5). Then turn the steam dial to the 0 position to stop the flow of hot water. 2. Wait a few minutes for the cappuccino maker to cool down. Grip the handle of the cappuccino maker tube firmly in one 1 short coffee 1 long coffee 2 long coffees 2 short coffees 14 hand and with the other rotate the cappuccino maker anti- clockwise (fig. 21), then remove by pulling downwards. 3. Also remove the steam connection nozzle by pulling it downwards (fig. 22). 4. Make sure the two holes shown by the arrow in fig. 23 are not blocked. If necessary, clean using a toothpick. 5. Wash all parts of the cappuccino maker thoroughly with a sponge and warm water. 6. Reinsert the nozzle, then replace the cappuccino maker on the nozzle, turning it and pushing it upwards until it is attached.'}]},\n {'headerId': 13,\n  'headerText': '13. HOT WATER',\n  'paragraphText': '',\n  'headerChildren': [{'subHeaderId': 1,\n    'subHeaderText': 'Danger of burns!',\n    'paragraphText': 'Never leave the machine unattended while delivering hot water. The hot water spout becomes hot while water is being delivered and must be handled by the handle only. 1. Place a container under the cappuccino maker (A18) (as close as possible to avoid splashes). 2. Turn the steam dial (A19) to the I position. Delivery begins. 3. Stop by turning the steam dial to the 0 position.'},\n   {'subHeaderId': 2,\n    'subHeaderText': 'Please note:',\n    'paragraphText': 'If “Energy Saving” mode is active, you may have to wait a few seconds before the hot water is delivered.'}]},\n {'headerId': 14,\n  'headerText': '14. CLEANING',\n  'paragraphText': '14.1 Cleaning the machine The following parts of the machine must be cleaned regularly: - the appliance’s internal circuit; - coffee grounds container (A13); - drip tray (A17) and condensate tray (A14); - water tank (A9); - coffee spouts (A12); - cappuccino maker (A18); - pre-ground coffee funnel (A6); - infuser (A11), accessible after opening the service door (A10); - control panel (A1). Important! • Do not use solvents, abrasive detergents or alcohol to clean the coffee machine. With De’Longhi superautomatic coffee machines, you need not use chemical products to clean the machine. • None of the components can be washed in a dishwasher. • Do not use metal objects to remove encrustations or coffee deposits as they could scratch metal or plastic surfaces.',\n  'headerChildren': [{'subHeaderId': 1,\n    'subHeaderText': '14.2 Cleaning the machine’s internal circuit',\n    'paragraphText': 'If the appliance is not used for more than 3-4 days, before using it again, we strongly recommend switching it on and performing: • 2/3 rinse cycles by pressing the button (B5); • delivering hot water by turning the hot water/steam dial (A19) to the I position. Please note: • After cleaning, it is normal for the grounds container (A13) to contain water.'},\n   {'subHeaderId': 2,\n    'subHeaderText': '14.3 Cleaning the coffee grounds container',\n    'paragraphText': 'When the light flashes, the coffee grounds container must be emptied and cleaned. Unless you clean the grounds contain- er, the light will continue to flash and the appliance cannot be used to make coffee. To clean (with the machine on): • Remove the drip tray (A17) (fig. 24), empty and clean. • Empty the grounds container (A13) and clean thoroughly to remove all residues left on the bottom. • Check the red condensate tray (A14) and empty if necessary. Important! When removing the drip tray, the grounds container must al- ways be emptied, even if it contains few grounds. If this is not done, when you make the next coffees, the grounds container may fill up more than expected and clog the machine.'},\n   {'subHeaderId': 3,\n    'subHeaderText': '14.4 Cleaning the drip tray and condensate tray',\n    'paragraphText': 'Important! If the drip tray is not emptied regularly, the water could over- flow from the edge and seep inside or around the machine. This could damage the machine, the surface it rests on or the surrounding area. The drip tray is fitted with a level indicator (A16) (red) show- ing the level of water it contains (fig. 25). Before the indicator protrudes from the cup tray, the drip tray must be emptied and cleaned. To remove the drip tray: 1. Remove the drip tray (A17) and the grounds container (A13) (fig. 24); 2. Empty the drip tray and grounds container and wash them; 3. Check the condensate tray (A14) and empty if necessary. 4. Replace the drip tray and grounds container. 15'},\n   {'subHeaderId': 4,\n    'subHeaderText': '14.5 Cleaning the inside of the coffee machine',\n    'paragraphText': ''},\n   {'subHeaderId': 5,\n    'subHeaderText': 'Danger of electric shock!',\n    'paragraphText': 'Before cleaning internal parts, the machine must be turned off (see “7. Turning off”) and unplugged from the mains power sup- ply. Never immerse the coffee machine in water. 1. Check regularly (about once a week) that the inside of the appliance (accessible after removing the drip tray) is not dirty. If necessary, remove coffee deposits with a sponge. 2. Remove the residues with a vacuum cleaner (fig. 26).'},\n   {'subHeaderId': 6,\n    'subHeaderText': '14.6 Cleaning the water tank',\n    'paragraphText': '1. Clean the water tank (A9) regularly (about once a month) and whenever you replace the water softener filter (C4, if provid- ed) with a damp cloth and a little mild washing up liquid. 2. Remove the filter (if present) and rinse with running water. 3. Replace the filter (if provided), fill the tank with fresh water and replace the tank. 4. (Models with water softener filter only) Deliver about 100 ml of water.'},\n   {'subHeaderId': 7,\n    'subHeaderText': '14.7 Cleaning the coffee spouts',\n    'paragraphText': '1. Clean the coffee spouts (A12) with a sponge or cloth (fig. 27). 2. Check the holes in the coffee spouts are not blocked. If nec- essary, remove coffee deposits with a toothpick (fig. 28).'},\n   {'subHeaderId': 8,\n    'subHeaderText': '14.8 Cleaning the pre-ground coffee funnel',\n    'paragraphText': 'Check regularly (about once a month ) that the pre-ground coffee funnel (A6) is not blocked. If necessary, remove coffee deposits.'},\n   {'subHeaderId': 9,\n    'subHeaderText': '14.9 Cleaning the infuser',\n    'paragraphText': 'The infuser (A11) must be cleaned at least once a month. Important! The infuser may not be extracted when the machine is on. 1. Make sure the machine is correctly turned off (see “7. Turn- ing off”). 2. Remove the water tank (A9). 3. Open the infuser door (A10) (fig. 29) on the right side of the appliance. 4. Press the two coloured release buttons inwards and at the same time pull the infuser outwards (fig. 30); Important! Clean the infuser without using washing up liquid as it could be damaged. 5. Soak the infuser in water for about 5 minutes, then rinse under the tap. 6. Clean coffee residues from the support where the infuser rests. 33 7. After cleaning, replace the infuser by sliding it onto the internal support (fig. 33), then push the PUSH symbol until it clicks into place.'},\n   {'subHeaderId': 10,\n    'subHeaderText': 'Please note:',\n    'paragraphText': 'If the infuser is difficult to insert, before insertion, adapt it to the right size by pressing the two levers shown in fig. 34. 34 8. Once inserted, make sure the two coloured buttons have snapped out (fig. 35). 35 PUSH 9. Close the infuser door. 10. Put the water tank back.'}]},\n {'headerId': 15,\n  'headerText': '15. DESCALING',\n  'paragraphText': 'Descale the appliance when the light (B5) (fig. 31) on the control panel flashes. Important! • Before use, read the instructions and the labelling on the descaler pack. Small lever Large lever Infuser 16 • You should use De’Longhi descaler only. Using unsuitable descaler and/or performing descaling incorrectly may re- sult in faults not covered by the manufacturer’s guarantee. 1. Turn the appliance on and wait until it is ready for use. 2. Empty the drip tray (A17) and grounds container (A13) and put both back in the machine. 3. Empty the water tank (A9) completely and remove the water softener filter (C4), if present. 4. Pour the descaler (C3) into the tank up to level A (corre- sponding to a 100 ml pack) marked on the back of the tank, then add a litre of water up to level B (fig. 32) and put the water tank back in the appliance. 1,8 l 36 . Place a container with a minimum capacity of 1.8 litres under the cappucci- no maker (A18) and cof- fee spouts (A12) (fig. 36). 6. Wait for the coffee lights to come on steadily. 7. Press and hold the button (B5) for at least 5 seconds to con- firm that you have added the solution and begin the descaling procedure. The light in the button comes on steadily to indicate that the descaling programme has begun. 8. The light flashes to indicate the hot water/steam dial (A19) must be turned to the I position.',\n  'headerChildren': [{'subHeaderId': 1,\n    'subHeaderText': 'Important! Danger of burns',\n    'paragraphText': 'Hot water containing acid flows from the cappuccino maker and coffee spouts. Take care to avoid contact with splashes of this solution. 9. When the dial has been turned to the l position, the des- cale programme starts and the descaler liquid comes out of the cappuccino maker and coffee spouts. A series of rinses and pauses are performed automatically to remove all the scale residues inside the coffee machine. After about 25 minutes, descaling stops and the and lights flash on the control panel. Turn the hot water/steam dial to the 0 position. 10. The appliance is now ready for rinsing through with clean water. Empty the container used to collect the descaler solution. Extract the water tank, empty, rinse under run- ning water, fill with fresh water up to the MAX level and put back in the appliance: the light flashes. 11. Place the container used to collect the descaler solution empty under the cappuccino maker and coffee spouts (fig. 36). 12. Turn the hot water/steam dial to the I position to begin rinsing. Hot water is delivered first from the cappuccino maker, to continue and end with the coffee spouts. 13. When the water tank is completely empty, the and lights flash on the control panel. Turn the hot water/ steam dial to the 0 position. 14. Empty the container used to collect the rinsing water. Re- move the water tank, replace the water softener filter (if removed previously), fill the tank up to the MAX level with cold water and insert in the appliance. The steam light flashes. 15. Place the container used to collect the rinsing water empty under the cappuccino maker; 16. Turn the hot water/steam dial to the I position. Rinsing continues from the cappuccino maker only. 17. When it finishes, the steam light flashes on the con- trol panel. Turn the hot water/steam dial to the 0 position. 18. Top up the water tank with fresh water to the MAX level and put back in the machine. Descaling is complete. Please note! • If the descaling cycle is not completed correctly (e.g. no electricity) we recommend repeating the cycle. • After descaling, it is normal for the grounds container (A13) to contain water.'}]},\n {'headerId': 16,\n  'headerText': '16. SETTING WATER HARDNESS',\n  'paragraphText': 'Descaling is necessary after a period of operation established according to the water hardness set. The machine is set by default for a hardness value of 4. The ma- chine can also be programmed according to the hardness of the mains water in the various regions so that the machine needs to be descaled less often.',\n  'headerChildren': [{'subHeaderId': 1,\n    'subHeaderText': '16.1 Measuring water hardness',\n    'paragraphText': '1. Remove the “TOTAL HARDNESS TEST” indicator paper (C1) from its pack (attached to the English instructions). 2. Immerse the paper completely in a glass of water for one second. 3. Remove the paper from the water and shake lightly. After about a minute, 1, 2, 3, or 4 red squares form, depending on the hardness of the water. Each square corresponds to one level. 17'},\n   {'subHeaderId': 2,\n    'subHeaderText': '16.2 Setting water hardness',\n    'paragraphText': '1. Make sure the appliance is off (but connected to the mains electricity supply and with the main switch in the I position); 2. Press and hold the button (B5) for at least 5 sec- onds. The and lights come on together; 3. Press the button (B3, on the left of the dial) to set the actual water hardness as measured by the indicator paper. Level Level Level Level 1 2 3 4 4. Press the button (B8, on the right of the dial) to confirm the selection. The machine is now reprogrammed with the new water hard- ness setting.'}]},\n {'headerId': 17,\n  'headerText': '17. TECHNICAL DATA',\n  'paragraphText': 'Voltage: 220-240 V~ 50/60 Hz max. 10A Absorbed power: 1450 W Pressure: 1.5 MPa (15 bars) Max. water tank capacity: 1.8 L Size LxDxH: 240x430x350 mm Cord length: 1150 mm Weight: 8.9 kg Max. beans container capacity: 250 g This product is compliant with Regulation (EC) No. 1935/2004 on materials and articles intended to come into contact with food.',\n  'headerChildren': []},\n {'headerId': 18,\n  'headerText': '18. DISPOSAL',\n  'paragraphText': 'The appliance must not be disposed of with house- hold waste, but taken to an authorised waste separa- tion and recycling centre. Level 1 Level 2 Level 3 Level 4',\n  'headerChildren': []},\n {'headerId': 19,\n  'headerText': '19. EXPLANATION OF LIGHTS',\n  'paragraphText': 'LIGHT DISPLAYED POSSIBLE CAUSE REMEDY The hot water/steam dial must be turned (A19) Turn the hot water/steam dial. FLASHING Insufficient water in the tank (A9). Fill the tank with water and/or insert it correct- ly, pushing it as far as it will go until it clicks into place. The tank (A9) is not correctly in place. Insert the tank correctly and press as far as it will go. 18 FLASHING The grounds container (A13) is full. Empty the grounds container and drip tray, clean and replace. Important: when removing the drip tray, the grounds container MUST be emptied, even if it contains few grounds. If this is not done, when you make the next coffees, the grounds container may fill up more than expected and clog the machine. After cleaning, the grounds con- tainer has not been replaced (A13). Remove the drip tray and insert the grounds container. FLASHING The grinding is too fine and the coffee is delivered too slowly or not at all. Repeat coffee delivery and turn the grinding adjustment dial (A2, fig. 10) one click clock- wise towards \"7\" while the coffee mill is in operation. If after making at least 2 coffees delivery is still too slow, repeat the correction procedure, turning the grinding adjustment dial another click until delivery is correct (see \"11.3. Adjusting the coffee mill). If the prob- lem persists, turn the steam dial (A19) to the I position and deliver some water from the cappuccino maker. If the water softener filter (C4) is present, an air bubble may have been released inside the circuit, obstructing delivery. Deliver a little water from the cappuccino maker by turning the steam dial (A19) to the I position until the flow is regular (fig. 5). FLASHING The \"pre-ground coffee\" function has been selected without placing any pre-ground coffee in the fun- nel (A6). Place pre-ground coffee in the funnel or dese- lect the “pre-ground” function. FLASHING The machine must be descaled. The descaling procedure described in the sec- tion “15. Descaling\" needs to be performed. FLASHING Too much coffee has been used. Select a milder taste or reduce the quantity of pre-ground coffee, then make the coffee again. 19 FLASHING The coffee beans have run out. Fill beans container. The pre-ground coffee funnel (A6) is clogged. Empty the funnel with the help of a brush as described in the section \"14.8. Cleaning the pre-ground coffee funnel\". FLASHING The infuser has not been replaced after cleaning (A11). Insert the infuser as described in the section “14.9. Cleaning the infuser\". The inside of the appliance is very dirty. Clean the inside of the appliance thoroughly, as described in the section \"14. Cleaning\". If the message is still displayed after cleaning, contact a service centre. 20. TROUBLESHOOTING Below is a list of some of the possible malfunctions. If the problem cannot be resolved as described, contact Customer Services. PROBLEM POSSIBLE CAUSE REMEDY The coffee is not hot. The cups were not preheated. Warm the cups by rinsing them with hot water. Please note: the hot water or rinse function can be used. The infuser has cooled down because 2/3 minutes have elapsed since the last coffee was made. Before making coffee, heat up the infuser by pressing the rinse button. The coffee is weak or not creamy enough. The coffee is ground too coarsely. Turn the grinding dial one click anticlockwise while the grinder is in operation (fig. 8). Con- tinue one click at a time until coffee delivery is satisfactory. The effect is only visible after de- livering 2 coffees (see section \"11.3Adjusting the coffee mill\"). The coffee is unsuitable. Use coffee beans suitable for espresso machines. The coffee is delivered too slowly or a drop at a time. The coffee is ground too finely. Turn the grinding dial one click clockwise while the grinder is in operation (fig. 8). Con- tinue one click at a time until coffee delivery is satisfactory. The effect is only visible after de- livering 2 coffees (see section \"11.3. Adjusting the coffee mill\"). Coffee does not come out of one or both of the spouts. The spouts are blocked. Clean the spouts with a toothpick. 20',\n  'headerChildren': []},\n {'headerId': 20,\n  'headerText': '21. ELECTRICAL REQUIREMENTS (UK ONLY)',\n  'paragraphText': 'Before using this appliance ensure that the voltage indicated on the product corresponds with the main voltage in your home, if you are in any doubt about your supply contact your local electricity company. The flexible mains lead is supplied connected to a B.S. 1363 fused plug having a fuse of 13 amp capacity. Should this plug not fit the socket outlets in your home, it should be cut off and replaced with a suitable plug, following the procedure outlined below. Note: Such a plug cannot be used for any other appliance and should therefore be properly disposed of and not left where children might find it and plug it into a supply socket - with the obvious consequent danger. N.B. We recommend the use of good quality plugs and wall sockets that can be switched off when the machine is not in use. IMPORTANT: the wires in the mains lead fitted to this appliance are coloured in accordance with the following code: GREEN AND YELLOW EARTH BLUE NEUTRAL BROWN LIVE As the colours of the wires in the mains lead of this appliance may not correspond with the coloured markings identifying the terminals in your plug, proceed as follows: - The wire which is coloured green and yellow must be connected to the terminal in the plug which is marked with the letter E or by the earth symbol or coloured green or green and yellow. - The wire which is coloured blue must be connected to the terminal which is marked with the letter N or coloured black. - The wire which is coloured brown must be connected to the terminal which is marked with the letter L or coloured red. When wiring the plug, ensure that all strands of wire are securely retained in each terminal. Do not forget to tighten the mains lead clamp on the plug. If your electricity supply point has only two pin socket outlets, or if you are in doubt, consult a qualified electrician. Should the mains lead ever require replacement, it is essential that this operation be carried out by a qualified electrician and should only be replaced with a flexible cord of the same size. After replacement of a fuse in the plug, the fuse cover must be refitted. If the fuse cover is lost, the plug must not be used until a replacement cover is obtained. The colour of the correct replacement fuse cover is that of the coloured insert in the base of the fuse recess or elsewhere on the plug. Always state this colour when ordering a replacement fuse cover. Only 13amp replacement fuses which are asta approved to B.S. 1362 should be fitted. This appliance conforms to the Norms EN 55014 regarding the suppression of radio interference. Warning - this appliance must be earthed Green and Yellow to Earth 13 amp Fuse Brown to live Cord Clamp Blue to neutral The frothed milk has large bubbles The milk is not cold enough or is not semi-skimmed. You should ideally use skimmed or semi- skimmed milk at refrigerator temperature (about 5°C). If the result is not as you wished, try changing brand of milk. The milk is not frothed Cappuccino maker dirty. Clean as described in the section \"12.1. Clean- ing the cappuccino maker after use\". Steam delivery stops A safety device stops steam delivery after 3 minutes. Wait, and then enable the steam function again. The appliance does not come on It is not plugged into the mains socket. Plug into the mains socket. The main switch (A8) is not turned on. Place the main switch in the I position (fig. 1).',\n  'headerChildren': [{'subHeaderId': 1,\n    'subHeaderText': 'Instructions for use',\n    'paragraphText': ''}]},\n {'headerId': 21,\n  'headerText': 'ECAM22.110',\n  'paragraphText': '',\n  'headerChildren': []},\n {'headerId': 22,\n  'headerText': 'ElEctrical rEquirEmEnts',\n  'paragraphText': 'Before using this appliance ensure that the voltage indicated on the product corresponds with the main voltage in your home, if you are in any doubt about your supply contact your local electricity company. The flexible mains lead is supplied connected to a B.S. 1363 fused plug having a fuse of 13 amp capacity. Should this plug not fit the socket outlets in your home, it should be cut off and replaced with a suitable plug, following the procedure outlined below. Note: Such a plug cannot be used for any other appliance and should therefore be properly disposed of and not left where children might find it and plug it into a supply socket - with the obvious consequent danger. N.B. We recommend the use of good quality plugs and wall sockets that can be switched off when the machine is not in use. important: the wires in the mains lead fitted to this appliance are coloured in accordance with the following code: greeN aNd yelloW earTh Blue NeuTral BroWN live as the colours of the wires in the mains lead of this appliance may not correspond with the coloured markings identifying the terminals in your plug, proceed as follows: - The wire which is coloured green and yellow must be connected to the terminal in the plug which is marked with the letter e or by the earth symbol or coloured green or green and yellow. - The wire which is coloured blue must be connected to the terminal which is marked with the letter N or coloured black. - The wire which is coloured brown must be connected to the terminal which is marked with the letter l or coloured red. When wiring the plug, ensure that all strands of wire are securely retained in each terminal. do not forget to tighten the mains lead clamp on the plug. if your electricity supply point has only two pin socket outlets, or if you are in doubt, consult a qualified electrician. Should the mains lead ever require replacement, it is essential that this operation be carried out by a qualified electrician and should only be replaced with a flexible cord of the same size. after replacement of a fuse in the plug, the fuse cover must be refitted. if the fuse cover is lost, the plug must not be used until a replacement cover is obtained. The colour of the correct replacement fuse cover is that of the coloured insert in the base of the fuse recess or elsewhere on the plug. always state this colour when ordering a replacement fuse cover. only 13amp replacement fuses which are asta approved to B.S. 1362 should be fitted. This appliance conforms to the Norms eN 55014 regarding the suppression of radio interference. Warning - this appliance must be earthed Green and Yellow to Earth 13 amp Fuse Brown to live Cord Clamp Blue to neutral',\n  'headerChildren': []}]"
     },
     "execution_count": 17,
     "metadata": {},
     "output_type": "execute_result"
    }
   ],
   "source": [
    "with open('../Preprocessor/output_preprocessing/corpus.json', 'r') as corpusfile:\n",
    "    corpus = json.load(corpusfile)\n",
    "corpus[9]['products'][0]['languages']['en']"
   ],
   "metadata": {
    "collapsed": false,
    "pycharm": {
     "name": "#%%\n"
    }
   }
  },
  {
   "cell_type": "code",
   "execution_count": 18,
   "outputs": [
    {
     "name": "stderr",
     "output_type": "stream",
     "text": [
      "Some weights of the model checkpoint at bert-base-uncased were not used when initializing BertForQuestionAnswering: ['cls.predictions.transform.LayerNorm.weight', 'cls.predictions.decoder.weight', 'cls.seq_relationship.bias', 'cls.seq_relationship.weight', 'cls.predictions.transform.dense.weight', 'cls.predictions.transform.dense.bias', 'cls.predictions.transform.LayerNorm.bias', 'cls.predictions.bias']\n",
      "- This IS expected if you are initializing BertForQuestionAnswering from the checkpoint of a model trained on another task or with another architecture (e.g. initializing a BertForSequenceClassification model from a BertForPreTraining model).\n",
      "- This IS NOT expected if you are initializing BertForQuestionAnswering from the checkpoint of a model that you expect to be exactly identical (initializing a BertForSequenceClassification model from a BertForSequenceClassification model).\n",
      "Some weights of BertForQuestionAnswering were not initialized from the model checkpoint at bert-base-uncased and are newly initialized: ['qa_outputs.weight', 'qa_outputs.bias']\n",
      "You should probably TRAIN this model on a down-stream task to be able to use it for predictions and inference.\n"
     ]
    }
   ],
   "source": [
    "manufacturer = 'Delonghi'\n",
    "product_id = 'ecam22110b_magnifica_s_kaffeevollautomat'\n",
    "language = 'en'\n",
    "question_strings = [\n",
    "    \"Does the machine get hot?\",\n",
    "    \"Should my children supervise the machine?\",\n",
    "    \"Should I submerge the machine in water?\",\n",
    "    \"Is the appliance suited for my office?\"\n",
    "]\n",
    "\n",
    "model = SentenceTransformer('sentence-transformers/all-MiniLM-L6-v2')\n",
    "nlp  = pipeline(\"question-answering\", model=\"deepset/roberta-base-squad2\")"
   ],
   "metadata": {
    "collapsed": false,
    "pycharm": {
     "name": "#%%\n"
    }
   }
  },
  {
   "cell_type": "code",
   "execution_count": 19,
   "outputs": [],
   "source": [
    "embeddings = []\n",
    "for header in corpus[9]['products'][0]['languages']['en']:\n",
    "  embedding_dict = {}\n",
    "\n",
    "  embedding_dict['id'] = header['headerId']\n",
    "  embedding_dict['embedding'] = model.encode(header['paragraphText'], convert_to_tensor=True)\n",
    "\n",
    "  embeddings.append(embedding_dict)"
   ],
   "metadata": {
    "collapsed": false,
    "pycharm": {
     "name": "#%%\n"
    }
   }
  },
  {
   "cell_type": "code",
   "execution_count": 20,
   "outputs": [
    {
     "name": "stderr",
     "output_type": "stream",
     "text": [
      "C:\\Users\\schmi\\AppData\\Local\\Programs\\Python\\Python39\\lib\\site-packages\\numpy\\core\\fromnumeric.py:43: VisibleDeprecationWarning: Creating an ndarray from ragged nested sequences (which is a list-or-tuple of lists-or-tuples-or ndarrays with different lengths or shapes) is deprecated. If you meant to do this, you must specify 'dtype=object' when creating the ndarray.\n",
      "  result = getattr(asarray(obj), method)(*args, **kwds)\n"
     ]
    }
   ],
   "source": [
    "n = 3\n",
    "n_highest = []\n",
    "for question_string in question_strings:\n",
    "    relevances = []\n",
    "    for paragraph in embeddings:\n",
    "      relevances.append(util.pytorch_cos_sim(model.encode(question_string, convert_to_tensor=True), paragraph['embedding']))\n",
    "    n_highest.append(np.argsort(relevances)[::-1][:n])"
   ],
   "metadata": {
    "collapsed": false,
    "pycharm": {
     "name": "#%%\n"
    }
   }
  },
  {
   "cell_type": "code",
   "execution_count": 21,
   "outputs": [],
   "source": [
    "paragraph_for_question = []\n",
    "for set in n_highest:\n",
    "    likely_paragraphs = []\n",
    "    for i in set:\n",
    "        likely_paragraphs.append(corpus[9]['products'][0]['languages']['en'][i]['paragraphText'])\n",
    "    paragraph_for_question.append(likely_paragraphs)"
   ],
   "metadata": {
    "collapsed": false,
    "pycharm": {
     "name": "#%%\n"
    }
   }
  },
  {
   "cell_type": "code",
   "execution_count": 22,
   "outputs": [],
   "source": [
    "answers = []\n",
    "for i, question_string in enumerate(question_strings):\n",
    "    results = []\n",
    "\n",
    "    for paragraph in paragraph_for_question[i]:\n",
    "        result = nlp(question = question_string, context = paragraph)\n",
    "        results.append( result)\n",
    "\n",
    "    results = sorted( results , key=lambda k: k['score'], reverse=True)\n",
    "    answers.append(results)"
   ],
   "metadata": {
    "collapsed": false,
    "pycharm": {
     "name": "#%%\n"
    }
   }
  },
  {
   "cell_type": "code",
   "execution_count": 23,
   "outputs": [
    {
     "name": "stdout",
     "output_type": "stream",
     "text": [
      "Question:  Does the machine get hot?\n",
      "--Answer: off after being used\n",
      "--Answer: - matic preheat and rinse cycle which cannot be interrupt\n",
      "--Answer: old and\n",
      "Question:  Should my children supervise the machine?\n",
      "--Answer: cappuc- cino machine. We hope you\n",
      "--Answer: ). Important! • Do not use solvents,\n",
      "--Answer: instruction concerning use of the appliance in\n",
      "Question:  Should I submerge the machine in water?\n",
      "--Answer: default for a hardness value of\n",
      "--Answer: with a water softener filter (C4\n",
      "--Answer: 2. Empty\n",
      "Question:  Is the appliance suited for my office?\n",
      "--Answer: 1362 should be fitted. This appliance conforms to the Norms EN\n",
      "--Answer: instruction concerning use of the appliance in\n",
      "--Answer: plug. if your electricity supply point has only two pin socket outlets, or\n"
     ]
    }
   ],
   "source": [
    "for question_string, results in zip(question_strings, answers):\n",
    "    print(\"Question: \", question_string)\n",
    "    for r in results:\n",
    "      #  if r[\"score\"] > 0.5:\n",
    "            print(\"--Answer:\", r[\"answer\"])"
   ],
   "metadata": {
    "collapsed": false,
    "pycharm": {
     "name": "#%%\n"
    }
   }
  },
  {
   "cell_type": "code",
   "execution_count": 24,
   "outputs": [
    {
     "name": "stdout",
     "output_type": "stream",
     "text": [
      "start_logits\n"
     ]
    },
    {
     "ename": "TypeError",
     "evalue": "new(): invalid data type 'str'",
     "output_type": "error",
     "traceback": [
      "\u001B[1;31m---------------------------------------------------------------------------\u001B[0m",
      "\u001B[1;31mTypeError\u001B[0m                                 Traceback (most recent call last)",
      "Input \u001B[1;32mIn [24]\u001B[0m, in \u001B[0;36m<cell line: 29>\u001B[1;34m()\u001B[0m\n\u001B[0;32m     27\u001B[0m \u001B[38;5;28mprint\u001B[39m(start_scores)\n\u001B[0;32m     29\u001B[0m \u001B[38;5;28;01mfor\u001B[39;00m index,(start_score,end_score,input_id) \u001B[38;5;129;01min\u001B[39;00m \u001B[38;5;28menumerate\u001B[39m(\u001B[38;5;28mzip\u001B[39m(start_scores,end_scores,input_ids)):\n\u001B[1;32m---> 30\u001B[0m     max_startscore \u001B[38;5;241m=\u001B[39m torch\u001B[38;5;241m.\u001B[39margmax(\u001B[43mtorch\u001B[49m\u001B[38;5;241;43m.\u001B[39;49m\u001B[43mTensor\u001B[49m\u001B[43m(\u001B[49m\u001B[43mstart_score\u001B[49m\u001B[43m)\u001B[49m)\n\u001B[0;32m     31\u001B[0m     max_endscore \u001B[38;5;241m=\u001B[39m torch\u001B[38;5;241m.\u001B[39margmax(torch\u001B[38;5;241m.\u001B[39mTensor(end_score))\n\u001B[0;32m     32\u001B[0m     ans_tokens \u001B[38;5;241m=\u001B[39m input_ids[index][max_startscore: max_endscore \u001B[38;5;241m+\u001B[39m \u001B[38;5;241m1\u001B[39m]\n",
      "\u001B[1;31mTypeError\u001B[0m: new(): invalid data type 'str'"
     ]
    }
   ],
   "source": [
    "\n",
    "from transformers import DistilBertTokenizer, DistilBertForQuestionAnswering\n",
    "import torch\n",
    "\n",
    "tokenizer = DistilBertTokenizer.from_pretrained('distilbert-base-uncased',return_token_type_ids = True)\n",
    "model = DistilBertForQuestionAnswering.from_pretrained('distilbert-base-uncased-distilled-squad')\n",
    "\n",
    "context = \"\"\n",
    "for i in range(3):\n",
    "    context += corpus[9]['products'][0]['languages']['en'][10][\"paragraphText\"]\n",
    "\n",
    "questions = [\n",
    "            \"Does the machine get hot?\",\n",
    "            \"Should my children supervise the machine?\",\n",
    "            \"Should I submerge the machine in water?\",\n",
    "            \"Is the appliance suited for my office?\"\n",
    "            ]\n",
    "\n",
    "question_context_for_batch = []\n",
    "\n",
    "for question in questions :\n",
    "    question_context_for_batch.append((question, context))\n",
    "\n",
    "encoding = tokenizer.batch_encode_plus(question_context_for_batch,pad_to_max_length=True, return_tensors=\"pt\")\n",
    "input_ids = encoding[\"input_ids\"]\n",
    "attention_mask = encoding[\"attention_mask\"]\n",
    "start_scores, end_scores = model(input_ids, attention_mask=attention_mask)\n",
    "print(start_scores)\n",
    "\n",
    "for index,(start_score,end_score,input_id) in enumerate(zip(start_scores,end_scores,input_ids)):\n",
    "    max_startscore = torch.argmax(torch.Tensor(start_score))\n",
    "    max_endscore = torch.argmax(torch.Tensor(end_score))\n",
    "    ans_tokens = input_ids[index][max_startscore: max_endscore + 1]\n",
    "    answer_tokens = tokenizer.convert_ids_to_tokens(ans_tokens, skip_special_tokens=True)\n",
    "    answer_tokens_to_string = tokenizer.convert_tokens_to_string(answer_tokens)\n",
    "    print (\"\\nQuestion: \",questions[index])\n",
    "    print (\"Answer: \", answer_tokens_to_string)"
   ],
   "metadata": {
    "collapsed": false,
    "pycharm": {
     "name": "#%%\n"
    }
   }
  },
  {
   "cell_type": "code",
   "execution_count": null,
   "outputs": [],
   "source": [],
   "metadata": {
    "collapsed": false,
    "pycharm": {
     "name": "#%%\n"
    }
   }
  }
 ],
 "metadata": {
  "kernelspec": {
   "display_name": "Python 3",
   "language": "python",
   "name": "python3"
  },
  "language_info": {
   "codemirror_mode": {
    "name": "ipython",
    "version": 2
   },
   "file_extension": ".py",
   "mimetype": "text/x-python",
   "name": "python",
   "nbconvert_exporter": "python",
   "pygments_lexer": "ipython2",
   "version": "2.7.6"
  }
 },
 "nbformat": 4,
 "nbformat_minor": 0
}