{
 "cells": [
  {
   "cell_type": "code",
   "execution_count": 1,
   "metadata": {
    "pycharm": {
     "name": "#%%\n"
    }
   },
   "outputs": [
    {
     "name": "stderr",
     "output_type": "stream",
     "text": [
      "c:\\Users\\ifeol\\AppData\\Local\\Programs\\Python\\Python39\\lib\\site-packages\\tqdm\\auto.py:22: TqdmWarning: IProgress not found. Please update jupyter and ipywidgets. See https://ipywidgets.readthedocs.io/en/stable/user_install.html\n",
      "  from .autonotebook import tqdm as notebook_tqdm\n"
     ]
    }
   ],
   "source": [
    "from elasticsearch import Elasticsearch\n",
    "from elasticsearch.exceptions import ConnectionError, NotFoundError\n",
    "from elasticsearch.helpers import bulk\n",
    "import json\n",
    "import pandas as pd\n",
    "import numpy as np\n",
    "import string\n",
    "import random\n",
    "import itertools\n",
    "\n",
    "from sentence_transformers import SentenceTransformer, util\n",
    "from transformers import pipeline\n",
    "import json\n",
    "import numpy as np\n",
    "import warnings\n",
    "warnings.simplefilter(action='ignore', category=FutureWarning)\n",
    "\n",
    "from elastic import Elastic\n"
   ]
  },
  {
   "cell_type": "code",
   "execution_count": 2,
   "metadata": {
    "pycharm": {
     "name": "#%%\n"
    }
   },
   "outputs": [],
   "source": [
    "with open('./corpus.json', 'r') as corpusfile:\n",
    "    corpus = json.load(corpusfile)"
   ]
  },
  {
   "cell_type": "code",
   "execution_count": 3,
   "metadata": {
    "pycharm": {
     "name": "#%%\n"
    }
   },
   "outputs": [],
   "source": [
    "elastic = Elastic()"
   ]
  },
  {
   "cell_type": "code",
   "execution_count": 4,
   "metadata": {
    "pycharm": {
     "name": "#%%\n"
    }
   },
   "outputs": [],
   "source": [
    "manufacturer = \"RussellHobbs\"\n",
    "product_id = \"25270_56\""
   ]
  },
  {
   "cell_type": "code",
   "execution_count": 5,
   "metadata": {
    "pycharm": {
     "name": "#%%\n"
    }
   },
   "outputs": [],
   "source": [
    "def unique_id(size):\n",
    "    chars = list(set(string.ascii_lowercase + string.digits).difference('LIO01'))\n",
    "    return ''.join(random.choices(chars, k=size))\n",
    "\n",
    "\n",
    "\n",
    "def get_product_contexts(manufacturer, product_id):\n",
    "    text = []\n",
    "    uid = []\n",
    "    for i in range(len(corpus)):\n",
    "        # Very shaky and lazy        \n",
    "        if corpus[i]['manufacturer'] == manufacturer:\n",
    "            for j in range(len(corpus[i]['products'])):\n",
    "                if corpus[i]['products'][j]['product_id'] == product_id:\n",
    "                    if corpus[i]['products'][j]['languages']['en'] is not None:\n",
    "                        if len(corpus[i]['products'][j]['languages']['en']) != 0:\n",
    "                            for k in range(len(corpus[i]['products'][j]['languages']['en'])):\n",
    "                                if corpus[i]['products'][j]['languages']['en'][k]['paragraphText'] != '':\n",
    "                                    paragraphText = corpus[i]['products'][j]['languages']['en'][k]['paragraphText']\n",
    "                                    id = corpus[i]['manufacturer'] + '_' + corpus[i]['products'][j]['product_id'] + '_' + unique_id(5)\n",
    "                                    text.append(paragraphText)\n",
    "                                    uid.append(id)\n",
    "\n",
    "                                    list_ = [uid,text]\n",
    "                                    contexts = pd.DataFrame(list_).T\n",
    "                                    contexts.columns= ['uid', 'text']\n",
    "                                  \n",
    "    return contexts"
   ]
  },
  {
   "cell_type": "code",
   "execution_count": 6,
   "metadata": {
    "pycharm": {
     "name": "#%%\n"
    }
   },
   "outputs": [
    {
     "name": "stdout",
     "output_type": "stream",
     "text": [
      "Index coffee has been deleted successfully!\n"
     ]
    }
   ],
   "source": [
    "elastic.delete_index(name=\"coffee\")"
   ]
  },
  {
   "cell_type": "code",
   "execution_count": 7,
   "metadata": {
    "pycharm": {
     "name": "#%%\n"
    }
   },
   "outputs": [
    {
     "name": "stdout",
     "output_type": "stream",
     "text": [
      "[INFO] index coffee has been created!\n"
     ]
    }
   ],
   "source": [
    "elastic.create_index(name=\"coffee\", config_file=\"./index_config.json\")"
   ]
  },
  {
   "cell_type": "code",
   "execution_count": 8,
   "metadata": {
    "pycharm": {
     "name": "#%%\n"
    }
   },
   "outputs": [
    {
     "name": "stdout",
     "output_type": "stream",
     "text": [
      "WARNING:tensorflow:Please fix your imports. Module tensorflow.python.training.tracking.data_structures has been moved to tensorflow.python.trackable.data_structures. The old module will be deleted in version 2.11.\n"
     ]
    },
    {
     "name": "stderr",
     "output_type": "stream",
     "text": [
      "WARNING:tensorflow:Please fix your imports. Module tensorflow.python.training.tracking.data_structures has been moved to tensorflow.python.trackable.data_structures. The old module will be deleted in version 2.11.\n"
     ]
    },
    {
     "name": "stdout",
     "output_type": "stream",
     "text": [
      "Loaded pre-trained model https://tfhub.dev/tensorflow/small_bert/bert_en_uncased_L-4_H-256_A-4/2 successfully!\n",
      "Loaded pre-trained model https://tfhub.dev/tensorflow/cord-19/swivel-128d/3 successfully!\n",
      "Loaded pre-trained model https://tfhub.dev/google/universal-sentence-encoder/4 successfully!\n",
      "Loaded pre-trained model sentence-transformers/all-MiniLM-L6-v2 successfully!\n",
      "Loaded pre-trained model sentence-transformers/all-MiniLM-L6-v2 successfully!\n"
     ]
    }
   ],
   "source": [
    "from embedders import SwivelEmbedder, BertEmbedder, UniversalSentenceEmbedder, allMiniLMEmbedder, FinetunedAllMiniLMEmbedder\n",
    "\n",
    "bert = BertEmbedder()\n",
    "swivel = SwivelEmbedder()\n",
    "universal = UniversalSentenceEmbedder()\n",
    "all_mini = allMiniLMEmbedder()\n",
    "finetuned_all_mini = FinetunedAllMiniLMEmbedder()\n",
    "\n",
    "contexts =get_product_contexts(manufacturer, product_id)\n",
    "\n",
    "# contexts['swivel_embedding'] = contexts['text'].apply(lambda t: swivel.embed_single_text(t)[0].tolist())\n",
    "# contexts['bert_embedding'] = contexts['text'].apply(lambda t: bert.embed_single_text(t)[0].tolist())\n",
    "#contexts['universal_sentence_embedding'] = contexts['text'].apply(lambda t: universal.embed_single_text(t)[0].tolist())\n",
    "#contexts['all_mini_embedding'] = contexts['text'].apply(lambda t: all_mini.embed_single_text(t).tolist())\n",
    "contexts['finetuned_all_mini_embedding'] = contexts['text'].apply(lambda t: finetuned_all_mini.embed_single_text(t).tolist())"
   ]
  },
  {
   "cell_type": "code",
   "execution_count": 9,
   "metadata": {
    "pycharm": {
     "name": "#%%\n"
    }
   },
   "outputs": [
    {
     "data": {
      "text/html": [
       "<div>\n",
       "<style scoped>\n",
       "    .dataframe tbody tr th:only-of-type {\n",
       "        vertical-align: middle;\n",
       "    }\n",
       "\n",
       "    .dataframe tbody tr th {\n",
       "        vertical-align: top;\n",
       "    }\n",
       "\n",
       "    .dataframe thead th {\n",
       "        text-align: right;\n",
       "    }\n",
       "</style>\n",
       "<table border=\"1\" class=\"dataframe\">\n",
       "  <thead>\n",
       "    <tr style=\"text-align: right;\">\n",
       "      <th></th>\n",
       "      <th>uid</th>\n",
       "      <th>text</th>\n",
       "      <th>finetuned_all_mini_embedding</th>\n",
       "    </tr>\n",
       "  </thead>\n",
       "  <tbody>\n",
       "    <tr>\n",
       "      <th>0</th>\n",
       "      <td>RussellHobbs_25270_56_2vikf</td>\n",
       "      <td>GB DE FR NL IT ES PT DK SE NO FI RU CZ SK PL H...</td>\n",
       "      <td>[-0.0713464766740799, 0.0666460320353508, -0.0...</td>\n",
       "    </tr>\n",
       "    <tr>\n",
       "      <th>1</th>\n",
       "      <td>RussellHobbs_25270_56_ecrkf</td>\n",
       "      <td>Follow basic safety precautions, including: Th...</td>\n",
       "      <td>[-0.07415638118982315, 0.06053953617811203, 0....</td>\n",
       "    </tr>\n",
       "    <tr>\n",
       "      <th>2</th>\n",
       "      <td>RussellHobbs_25270_56_wpjt8</td>\n",
       "      <td>1. Lid 2. Slot 3. Filter holder 4. Paper filte...</td>\n",
       "      <td>[0.021055476740002632, 0.033697012811899185, 0...</td>\n",
       "    </tr>\n",
       "    <tr>\n",
       "      <th>3</th>\n",
       "      <td>RussellHobbs_25270_56_tz3he</td>\n",
       "      <td>Fill the reservoir to the max mark, and run th...</td>\n",
       "      <td>[0.01735161803662777, 0.030152225866913795, 0....</td>\n",
       "    </tr>\n",
       "    <tr>\n",
       "      <th>4</th>\n",
       "      <td>RussellHobbs_25270_56_wf4b5</td>\n",
       "      <td>1. Remove the carafe from the hotplate. 2. Ope...</td>\n",
       "      <td>[0.030607910826802254, 0.047216761857271194, -...</td>\n",
       "    </tr>\n",
       "    <tr>\n",
       "      <th>5</th>\n",
       "      <td>RussellHobbs_25270_56_jtjkz</td>\n",
       "      <td>It isn’t neccessary to set the clock to use yo...</td>\n",
       "      <td>[-0.03425657004117966, 0.0227992944419384, -0....</td>\n",
       "    </tr>\n",
       "    <tr>\n",
       "      <th>6</th>\n",
       "      <td>RussellHobbs_25270_56_qw2jk</td>\n",
       "      <td>Pressing the f button will make the brewed cof...</td>\n",
       "      <td>[0.029520494863390923, -0.0193497184664011, -0...</td>\n",
       "    </tr>\n",
       "    <tr>\n",
       "      <th>7</th>\n",
       "      <td>RussellHobbs_25270_56_eumy5</td>\n",
       "      <td>Note: If you want to use the coffee strength f...</td>\n",
       "      <td>[0.0007969274884089828, 0.028213204815983772, ...</td>\n",
       "    </tr>\n",
       "    <tr>\n",
       "      <th>8</th>\n",
       "      <td>RussellHobbs_25270_56_gxgpm</td>\n",
       "      <td>The status light will operate as follows: Brew...</td>\n",
       "      <td>[-0.01741929166018963, -0.023695865646004677, ...</td>\n",
       "    </tr>\n",
       "    <tr>\n",
       "      <th>9</th>\n",
       "      <td>RussellHobbs_25270_56_z6tg3</td>\n",
       "      <td>Note: Make sure the clock is set to the correc...</td>\n",
       "      <td>[-0.022040795534849167, 0.016449250280857086, ...</td>\n",
       "    </tr>\n",
       "    <tr>\n",
       "      <th>10</th>\n",
       "      <td>RussellHobbs_25270_56_o7xlm</td>\n",
       "      <td>1. Your coffee maker will keep the coffee warm...</td>\n",
       "      <td>[0.02098800800740719, 0.051523607224226, -0.01...</td>\n",
       "    </tr>\n",
       "    <tr>\n",
       "      <th>11</th>\n",
       "      <td>RussellHobbs_25270_56_mwx3p</td>\n",
       "      <td>If you want a quick cup of coffee before the b...</td>\n",
       "      <td>[-0.018205266445875168, 0.05353899300098419, 0...</td>\n",
       "    </tr>\n",
       "    <tr>\n",
       "      <th>12</th>\n",
       "      <td>RussellHobbs_25270_56_769q8</td>\n",
       "      <td>1. Unplug the appliance and let it cool. 2. Ti...</td>\n",
       "      <td>[0.014493986032903194, 0.029131557792425156, 0...</td>\n",
       "    </tr>\n",
       "    <tr>\n",
       "      <th>13</th>\n",
       "      <td>RussellHobbs_25270_56_3ff5i</td>\n",
       "      <td>• After 60 brewing cycles, the display will sh...</td>\n",
       "      <td>[-0.0448077954351902, 0.0460217259824276, -0.0...</td>\n",
       "    </tr>\n",
       "    <tr>\n",
       "      <th>14</th>\n",
       "      <td>RussellHobbs_25270_56_rm3ya</td>\n",
       "      <td>W To avoid environmental and health problems d...</td>\n",
       "      <td>[-0.012097293511033058, 0.10810022801160812, -...</td>\n",
       "    </tr>\n",
       "  </tbody>\n",
       "</table>\n",
       "</div>"
      ],
      "text/plain": [
       "                            uid  \\\n",
       "0   RussellHobbs_25270_56_2vikf   \n",
       "1   RussellHobbs_25270_56_ecrkf   \n",
       "2   RussellHobbs_25270_56_wpjt8   \n",
       "3   RussellHobbs_25270_56_tz3he   \n",
       "4   RussellHobbs_25270_56_wf4b5   \n",
       "5   RussellHobbs_25270_56_jtjkz   \n",
       "6   RussellHobbs_25270_56_qw2jk   \n",
       "7   RussellHobbs_25270_56_eumy5   \n",
       "8   RussellHobbs_25270_56_gxgpm   \n",
       "9   RussellHobbs_25270_56_z6tg3   \n",
       "10  RussellHobbs_25270_56_o7xlm   \n",
       "11  RussellHobbs_25270_56_mwx3p   \n",
       "12  RussellHobbs_25270_56_769q8   \n",
       "13  RussellHobbs_25270_56_3ff5i   \n",
       "14  RussellHobbs_25270_56_rm3ya   \n",
       "\n",
       "                                                 text  \\\n",
       "0   GB DE FR NL IT ES PT DK SE NO FI RU CZ SK PL H...   \n",
       "1   Follow basic safety precautions, including: Th...   \n",
       "2   1. Lid 2. Slot 3. Filter holder 4. Paper filte...   \n",
       "3   Fill the reservoir to the max mark, and run th...   \n",
       "4   1. Remove the carafe from the hotplate. 2. Ope...   \n",
       "5   It isn’t neccessary to set the clock to use yo...   \n",
       "6   Pressing the f button will make the brewed cof...   \n",
       "7   Note: If you want to use the coffee strength f...   \n",
       "8   The status light will operate as follows: Brew...   \n",
       "9   Note: Make sure the clock is set to the correc...   \n",
       "10  1. Your coffee maker will keep the coffee warm...   \n",
       "11  If you want a quick cup of coffee before the b...   \n",
       "12  1. Unplug the appliance and let it cool. 2. Ti...   \n",
       "13  • After 60 brewing cycles, the display will sh...   \n",
       "14  W To avoid environmental and health problems d...   \n",
       "\n",
       "                         finetuned_all_mini_embedding  \n",
       "0   [-0.0713464766740799, 0.0666460320353508, -0.0...  \n",
       "1   [-0.07415638118982315, 0.06053953617811203, 0....  \n",
       "2   [0.021055476740002632, 0.033697012811899185, 0...  \n",
       "3   [0.01735161803662777, 0.030152225866913795, 0....  \n",
       "4   [0.030607910826802254, 0.047216761857271194, -...  \n",
       "5   [-0.03425657004117966, 0.0227992944419384, -0....  \n",
       "6   [0.029520494863390923, -0.0193497184664011, -0...  \n",
       "7   [0.0007969274884089828, 0.028213204815983772, ...  \n",
       "8   [-0.01741929166018963, -0.023695865646004677, ...  \n",
       "9   [-0.022040795534849167, 0.016449250280857086, ...  \n",
       "10  [0.02098800800740719, 0.051523607224226, -0.01...  \n",
       "11  [-0.018205266445875168, 0.05353899300098419, 0...  \n",
       "12  [0.014493986032903194, 0.029131557792425156, 0...  \n",
       "13  [-0.0448077954351902, 0.0460217259824276, -0.0...  \n",
       "14  [-0.012097293511033058, 0.10810022801160812, -...  "
      ]
     },
     "execution_count": 9,
     "metadata": {},
     "output_type": "execute_result"
    }
   ],
   "source": [
    "contexts"
   ]
  },
  {
   "cell_type": "code",
   "execution_count": 10,
   "metadata": {
    "pycharm": {
     "name": "#%%\n"
    }
   },
   "outputs": [
    {
     "name": "stdout",
     "output_type": "stream",
     "text": [
      "15\n"
     ]
    }
   ],
   "source": [
    "contexts['_op_type'] = \"index\"\n",
    "contexts['_index'] = \"coffee\"\n",
    "#data = data[['_op_type', '_index', 'uid', 'swivel_embedding', 'bert_embedding', 'universal_sentence_embedding']]\n",
    "embeddings = contexts[['_op_type', '_index', 'uid', 'finetuned_all_mini_embedding']]\n",
    "index_data = embeddings.to_dict(orient='records')\n",
    "print(len(index_data))\n",
    "# print(index_data[0])\n"
   ]
  },
  {
   "cell_type": "code",
   "execution_count": 11,
   "metadata": {
    "pycharm": {
     "name": "#%%\n"
    }
   },
   "outputs": [],
   "source": [
    "elastic.index_documents(index_data)"
   ]
  },
  {
   "cell_type": "code",
   "execution_count": 12,
   "metadata": {
    "pycharm": {
     "name": "#%%\n"
    }
   },
   "outputs": [],
   "source": [
    "def retrieve(query:str, n_returns:int, index_name: str, embedder):\n",
    "    '''\n",
    "    return: 2-D list [['idx': cosine_similarity]], sorted by cosine score descendingly\n",
    "    e.g.[['0', 0.963506],\n",
    "         ['1', 0.9492332000000001],\n",
    "         ['75', 0.9438302999999999]]\n",
    "    '''\n",
    "    if embedder == 'swivel':\n",
    "        query_vector = swivel.embed_single_text(query)[0].tolist()\n",
    "    elif embedder == 'bert':\n",
    "        query_vector = bert.embed_single_text(query)[0].tolist()\n",
    "    elif embedder == 'universal_sentence':\n",
    "        query_vector = universal.embed_single_text(query)[0].tolist()\n",
    "    elif embedder == 'all_mini':\n",
    "        query_vector = all_mini.embed_single_text(query).tolist()\n",
    "    elif embedder == 'finetuned_all_mini':\n",
    "        query_vector = finetuned_all_mini.embed_single_text(query).tolist()\n",
    "    else:\n",
    "        raise ValueError(\"embedder must be either 'swivel','bert', 'universal_sentence' or ...!\")\n",
    "        \n",
    "    script_query = {\n",
    "        \"script_score\": {\n",
    "            \"query\": {\"match_all\": {}},\n",
    "            \"script\": {\n",
    "                \"source\": f\"cosineSimilarity(params.query_vector, '{embedder}_embedding') + 1.0\", # Add 1.0 because ES doesnt support negative score\n",
    "                \"params\": {\"query_vector\": query_vector}\n",
    "            }\n",
    "        }\n",
    "    }\n",
    "    \n",
    "    response = elastic.search(index_name, script_query, n_returns, list_fields_to_return=[\"uid\"])\n",
    "    \n",
    "    res = []\n",
    "    for hit in response[\"hits\"][\"hits\"]:\n",
    "        res.append([hit[\"_source\"][\"uid\"], hit[\"_score\"] - 1])\n",
    "    return np.array(res)"
   ]
  },
  {
   "cell_type": "code",
   "execution_count": 13,
   "metadata": {
    "pycharm": {
     "name": "#%%\n"
    }
   },
   "outputs": [],
   "source": [
    "\"\"\"\n",
    "    Similarity search\n",
    "\"\"\"\n",
    "\n",
    "query = \"setting the clock\"\n",
    "\n",
    "relevant_contexts_uid = retrieve(query=query, n_returns=5, index_name=\"coffee\", embedder='finetuned_all_mini')"
   ]
  },
  {
   "cell_type": "code",
   "execution_count": 16,
   "metadata": {
    "pycharm": {
     "name": "#%%\n"
    }
   },
   "outputs": [],
   "source": [
    "relevant_contexts = []\n",
    "for i in range(len(relevant_contexts_uid)):\n",
    "    rel_con = contexts[contexts[\"uid\"] == relevant_contexts_uid[i][0]][\"text\"].iloc[0]\n",
    "    relevant_contexts.append(rel_con)\n",
    "relevant_contexts"
   ]
  },
  {
   "cell_type": "code",
   "execution_count": 18,
   "metadata": {
    "pycharm": {
     "name": "#%%\n"
    }
   },
   "outputs": [
    {
     "data": {
      "text/plain": [
       "['It isn’t neccessary to set the clock to use your coffee maker but you will need to set it if you want to use the timer functions. 1. Put the plug into the power socket. 2. Use the hr and min buttons to set the correct time in 24 hour format. • The clock will retain its settings until the coffee maker is unplugged.',\n",
       " 'Note: Make sure the clock is set to the correct time. Use the hr and min buttons. 1. Set the timer to the time you want to start brewing. a) Press the T button. b) Use the hr and min buttons to set the time you want brewing to start. 5 If you don’t press either the hr or min buttons within 5 seconds, the coffee maker will revert to “normal”, and the current time will show. Press the T button to start again. 2. When the time is programmed, press the W button. The T button will light up and the T icon will appear on the display. Your coffee maker is now set to make coffee at the selected time. 3. If you want to use the coffee strength feature when using the timer, press the f button now. The f button will light up. • If you want to cancel the timer before brewing has started, press the W button. • If you want to stop the coffee maker while it’s brewing, press the W button.',\n",
       " '1. Your coffee maker will keep the coffee warm for about 40 minutes. 2. 40 minutes after brewing your coffee maker will shut down and the time of day will be displayed. 3. To wake the appliance, press the min button.',\n",
       " '• After 60 brewing cycles, the display will show CL, to indicate that the appliance needs descaling. • To turn this function off, press the f and T buttons together, and hold them for 3 seconds. • Use a proprietary brand of descaler suitable for use in plastic-bodied products. Follow the instructions on the package of descaler. • Products returned under guarantee with faults due to scale will be subject to a repair charge.',\n",
       " 'Note: If you want to use the coffee strength feature press the f button before pressing the W button. The f button will light up. 1. Press the W button – the 1 icon will appear on the display. The W button will light up. 2. Shortly afterwards, coffee will start to drip into the carafe. 3. If you want to stop the coffee maker while it’s brewing, press the W button. 4. Once brewed, the hotplate will keep the carafe warm for up to 40 minutes.']"
      ]
     },
     "execution_count": 18,
     "metadata": {},
     "output_type": "execute_result"
    }
   ],
   "source": [
    "relevant_contexts"
   ]
  },
  {
   "cell_type": "code",
   "execution_count": 19,
   "metadata": {
    "pycharm": {
     "name": "#%%\n"
    }
   },
   "outputs": [
    {
     "name": "stderr",
     "output_type": "stream",
     "text": [
      "Downloading: 100%|██████████| 571/571 [00:00<00:00, 71.3kB/s]\n",
      "c:\\Users\\ifeol\\AppData\\Local\\Programs\\Python\\Python39\\lib\\site-packages\\huggingface_hub\\file_download.py:127: UserWarning: `huggingface_hub` cache-system uses symlinks by default to efficiently store duplicated files but your machine does not support them in C:\\Users\\ifeol\\.cache\\huggingface\\hub. Caching files will still work but in a degraded version that might require more space on your disk. This warning can be disabled by setting the `HF_HUB_DISABLE_SYMLINKS_WARNING` environment variable. For more details, see https://huggingface.co/docs/huggingface_hub/how-to-cache#limitations.\n",
      "To support symlinks on Windows, you either need to activate Developer Mode or to run Python as an administrator. In order to see activate developer mode, see this article: https://docs.microsoft.com/en-us/windows/apps/get-started/enable-your-device-for-development\n",
      "  warnings.warn(message)\n",
      "Downloading: 100%|██████████| 496M/496M [01:02<00:00, 7.97MB/s] \n",
      "Downloading: 100%|██████████| 79.0/79.0 [00:00<?, ?B/s]\n",
      "Downloading: 100%|██████████| 899k/899k [00:00<00:00, 1.06MB/s] \n",
      "Downloading: 100%|██████████| 456k/456k [00:00<00:00, 675kB/s] \n",
      "Downloading: 100%|██████████| 772/772 [00:00<00:00, 49.3kB/s]\n"
     ]
    }
   ],
   "source": [
    "\"\"\"\n",
    "    Question answering\n",
    "\"\"\"\n",
    "\n",
    "model = SentenceTransformer('sentence-transformers/all-MiniLM-L6-v2')\n",
    "nlp  = pipeline(\"question-answering\", model=\"deepset/roberta-base-squad2\")"
   ]
  },
  {
   "cell_type": "code",
   "execution_count": 37,
   "metadata": {
    "pycharm": {
     "name": "#%%\n"
    }
   },
   "outputs": [],
   "source": [
    "answers = []\n",
    "\n",
    "for context in relevant_contexts:\n",
    "    answer = nlp(question = query, context = context)\n",
    "    answers.append(answer)\n",
    "\n",
    "answers = sorted(answers , key=lambda k: k['score'], reverse=True)\n"
   ]
  },
  {
   "cell_type": "code",
   "execution_count": 48,
   "metadata": {
    "pycharm": {
     "name": "#%%\n"
    }
   },
   "outputs": [
    {
     "name": "stdout",
     "output_type": "stream",
     "text": [
      "Question:  setting the clock\n",
      "--Answer: the correct time\n",
      "\n",
      "Question:  setting the clock\n",
      "--Answer: The clock will retain its settings until the coffee maker is unplugged\n",
      "\n",
      "Question:  setting the clock\n",
      "--Answer: 3. To wake the appliance, press the min button\n",
      "\n",
      "Question:  setting the clock\n",
      "--Answer: press the f and T buttons together, and hold them for 3 seconds\n",
      "\n",
      "Question:  setting the clock\n",
      "--Answer: Press the W button\n",
      "\n"
     ]
    }
   ],
   "source": [
    "for i in range(len(answers)):\n",
    "    print(\"Question: \", query)\n",
    "    print(\"--Answer:\", answers[i]['answer'])\n",
    "    print()\n"
   ]
  }
 ],
 "metadata": {
  "kernelspec": {
   "display_name": "Python 3",
   "language": "python",
   "name": "python3"
  },
  "language_info": {
   "codemirror_mode": {
    "name": "ipython",
    "version": 3
   },
   "file_extension": ".py",
   "mimetype": "text/x-python",
   "name": "python",
   "nbconvert_exporter": "python",
   "pygments_lexer": "ipython3",
   "version": "3.9.7"
  },
  "orig_nbformat": 4,
  "vscode": {
   "interpreter": {
    "hash": "e437a2448c23dbc28e025c6eaec2ea7adfc4015fd60928410744ddc12b3746d2"
   }
  }
 },
 "nbformat": 4,
 "nbformat_minor": 2
}