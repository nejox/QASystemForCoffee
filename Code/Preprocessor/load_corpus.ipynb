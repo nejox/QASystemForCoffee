{
 "cells": [
  {
   "cell_type": "code",
   "execution_count": null,
   "outputs": [],
   "source": [
    "import json\n",
    "import Code.Clients.client_factory as factory\n"
   ],
   "metadata": {
    "collapsed": false,
    "pycharm": {
     "name": "#%%\n"
    }
   }
  },
  {
   "cell_type": "code",
   "execution_count": null,
   "outputs": [],
   "source": [
    "with open(\"corpus.json\") as f:\n",
    "    corpus = json.load(f)"
   ],
   "metadata": {
    "collapsed": false,
    "pycharm": {
     "name": "#%%\n"
    }
   }
  },
  {
   "cell_type": "code",
   "execution_count": null,
   "outputs": [],
   "source": [
    "# corpus = corpus und erstes element wegschmeißen\n",
    "fp = \"corpus.json\"\n",
    "corpus = factory.get_file_client().read_file(file_path=fp)"
   ],
   "metadata": {
    "collapsed": false,
    "pycharm": {
     "name": "#%%\n"
    }
   }
  },
  {
   "cell_type": "code",
   "execution_count": null,
   "outputs": [],
   "source": [
    "for lang in corpus[9][\"products\"]:\n",
    "    print(lang['product_id'])"
   ],
   "metadata": {
    "collapsed": false,
    "pycharm": {
     "name": "#%%\n"
    }
   }
  },
  {
   "cell_type": "code",
   "execution_count": null,
   "outputs": [],
   "source": [
    "import sys\n",
    "sys.path.append(\"D:\\Programming\\master\\MAI_NLP_PROJECT\")\n",
    "from Code.SimilaritySearch.embedders import FinetunedAllMiniLMEmbedder\n",
    "\n",
    "embedder = FinetunedAllMiniLMEmbedder()\n",
    "\n",
    "for entry in corpus:\n",
    "    manufacturer = entry[\"manufacturer\"]\n",
    "    for product in entry[\"products\"]:\n",
    "        p_id = product[\"product_id\"]\n",
    "        for language in product[\"languages\"]: #check\n",
    "            lang = language\n",
    "            for header in product[\"languages\"][language]:\n",
    "                h_id = header[\"headerId\"]\n",
    "                h_text = header[\"headerText\"]\n",
    "                h_paragraph = header[\"paragraphText\"]\n",
    "                if header[\"headerChildren\"]:\n",
    "                    for subheader in header[\"headerChildren\"]:\n",
    "                        sh_id = subheader[\"subHeaderId\"]\n",
    "                        sh_text = subheader[\"subHeaderText\"]\n",
    "                        sh_paragraph = subheader[\"paragraphText\"]\n",
    "                        file = {\n",
    "                            \"manufacturer_name\" : manufacturer,\n",
    "                            \"product_name\" : p_id,\n",
    "                            \"language\" : lang,\n",
    "                            \"headerId\" : h_id,\n",
    "                            \"headerText\" : h_text,\n",
    "                            \"headerParagraphText\" : h_paragraph,\n",
    "                            \"subHeaderId\" : sh_id,\n",
    "                            \"SubHeaderText\" : sh_text,\n",
    "                            \"subHeaderParagraphText\" : sh_paragraph,\n",
    "                            \"vector_embedding\" : embedder.embed_list_text([h_text, h_paragraph, sh_text, sh_paragraph])\n",
    "                        }\n",
    "                        factory.get_context_client().index_context(file)\n",
    "\n",
    "                else:\n",
    "                    file = {\n",
    "                        \"manufacturer_name\" : manufacturer,\n",
    "                        \"product_name\" : p_id,\n",
    "                        \"language\" : lang,\n",
    "                        \"headerId\" : h_id,\n",
    "                        \"headerText\" : h_text,\n",
    "                        \"headerParagraphText\" : h_paragraph,\n",
    "                        \"subHeaderId\" : None,\n",
    "                        \"SubHeaderText\" : None,\n",
    "                        \"subHeaderParagraphText\" : None,\n",
    "                        \"vector_embedding\" : embedder.embed_list_text([h_text, h_paragraph])\n",
    "                    }\n",
    "                    factory.get_context_client().index_context(file)\n",
    "\n",
    "\n",
    "\n",
    "\n"
   ],
   "metadata": {
    "collapsed": false,
    "pycharm": {
     "name": "#%%\n"
    }
   }
  },
  {
   "cell_type": "code",
   "execution_count": null,
   "outputs": [],
   "source": [
    "import Code.Clients.client_factory as factory\n",
    "meta = factory.get_context_client().get_context(\"AEG\", \"cm6_1_5st\", \"en\")\n",
    "print(meta)"
   ],
   "metadata": {
    "collapsed": false,
    "pycharm": {
     "name": "#%%\n"
    }
   }
  },
  {
   "cell_type": "code",
   "execution_count": null,
   "outputs": [],
   "source": [
    "from Code.CoffeeappBackend.coffeeapp_api.question_answering import QuestionAnswerer\n",
    "questionanswerer = QuestionAnswerer(language=\"en\",\n",
    "                                    manufacturer=\"AEG\",\n",
    "                                    product=\"cm6_1_5st\",\n",
    "                                    question=\"How do I make preparations?\"\n",
    "                                    )\n",
    "\n",
    "if questionanswerer.is_valid():\n",
    "    questionanswerer.ask()\n",
    "    print(questionanswerer.answers)"
   ],
   "metadata": {
    "collapsed": false,
    "pycharm": {
     "name": "#%%\n"
    }
   }
  },
  {
   "cell_type": "code",
   "execution_count": null,
   "metadata": {
    "collapsed": false,
    "pycharm": {
     "name": "#%%\n"
    }
   },
   "outputs": [],
   "source": [
    "from Code.CoffeeappBackend.coffeeapp_api.question_answering import QuestionAnswerer\n",
    "questionanswerer = QuestionAnswerer(language=\"en\",\n",
    "                                    manufacturer=\"AEG\",\n",
    "                                    product=\"cm6_1_5st\",\n",
    "                                    question=\"How do I make preparations?\"\n",
    "                                    )\n",
    "\n",
    "if questionanswerer.is_valid():\n",
    "    questionanswerer.ask()\n",
    "    print(questionanswerer.answers)"
   ]
  },
  {
   "cell_type": "code",
   "execution_count": null,
   "metadata": {
    "collapsed": false,
    "pycharm": {
     "name": "#%%\n"
    }
   },
   "outputs": [],
   "source": [
    "{\n",
    "\"manufacturer\" : \"AEG\",\n",
    "\"product_name\" : \"cm6_1_5st\",\n",
    "\"language\" : \"en\",\n",
    "\"questions\" : \"How do I make preparations?\"\n",
    "}"
   ]
  },
  {
   "cell_type": "code",
   "execution_count": 1,
   "metadata": {
    "pycharm": {
     "name": "#%%\n"
    }
   },
   "outputs": [],
   "source": [
    "import sys\n",
    "sys.path.append(\"D:\\Programming\\master\\MAI_NLP_PROJECT\")\n",
    "import Code.Clients.client_factory as factory"
   ]
  },
  {
   "cell_type": "code",
   "execution_count": 4,
   "metadata": {
    "pycharm": {
     "name": "#%%\n"
    }
   },
   "outputs": [
    {
     "name": "stdout",
     "output_type": "stream",
     "text": [
      "['Krups', 'Philipps', 'Delonghi', 'Jura', 'Melitta', 'Sage', 'RussellHobbs', 'Braun', 'Miele', 'AEG']\n"
     ]
    }
   ],
   "source": [
    "res = factory.get_meta_client().get_manufacturers()\n",
    "print(res)"
   ]
  },
  {
   "cell_type": "code",
   "execution_count": 2,
   "metadata": {
    "pycharm": {
     "name": "#%%\n"
    }
   },
   "outputs": [
    {
     "name": "stdout",
     "output_type": "stream",
     "text": [
      "[{'manufacturer': 'Krups', 'products': ['ea891810', 'ea895e10', 'ea891c10', 'ea872b10', 'ea844110', 'ea890110', 'ea890d10', 'ea894810', 'ea894t10', 'ea895n10']}, {'manufacturer': 'Philipps', 'products': ['sm658000', 'sm658050', 'sm658500', 'sm658020', 'ep354670', 'sm878500', 'sm888500', 'sm878000', 'sm888900', 'sm668500']}, {'manufacturer': 'Delonghi', 'products': ['ecam61055sb_primadonna_soul_kaffeevollautomat', 'eletta_explore_kaffeevollautomat_ecam45076t', 'eletta_explore_kaffeevollautomat_ecam45055s', 'ecam61075mb_primadonna_soul_kaffeevollautomat', 'ecam46860b_eletta_cappuccino_evo_kaffeevollautomat', 'ecam25033tb_magnifica_s_kaffeevollautomat', 'ecam55065ms_primadonna_class_kaffeevollautomat', 'ecam55065sb_primadonna_class_kaffeevollautomat', 'ecam25023sb_magnifica_s_kaffeevollautomat', 'esam3550b_magnifica_kaffeevollautomat']}, {'manufacturer': 'Jura', 'products': ['j90', 'z10', 'z10_signature_line', 's8', 'e8', 'ena_8', 'ena_4', 'd4', 'e6', 'e4']}, {'manufacturer': 'Melitta', 'products': ['caffeo_ci', 'caffeo_solo_perfect_milk', 'caffeo_solo_milk', 'avanza_series_600', 'caffeo_solo', 'latticia_ot', 'purista_series_300', 'latte_select', 'caffeo_lattea', 'caffeo_bar']}, {'manufacturer': 'Sage', 'products': ['ses876bss4eeu1', 'ses878bss4eeu1', 'sep920bss4eeu1', 'ses980bss4eeu1', 'ses880bss4eeu1', 'ses450bss4eeu1', 'ses920bss4eeu1', 'ses500bss4eeu1', 'ses875bss2eeu1a', 'ses990bss4eeu1']}, {'manufacturer': 'RussellHobbs', 'products': ['28250_56', '25620_56', '25610_56', '22000_56', '21700_56', '21701_56', '21702_56', '22620_56', '23370_56', '27010_56']}, {'manufacturer': 'Braun', 'products': ['puraroma_7_kaffeemaschine_kf_7020', 'puraroma_7_kaffeemaschine_kf_7120', 'aromaster_classic_kaffeemaschine_kf_471_black', 'multiserve_kaffeemaschine_kf_9050_bk', 'multiserve_kaffeemaschine_kf_9170_si', 'caféhouse_puraroma_kf_5201', 'purease_kaffeemaschine_kf_3120_schwarz', 'purease_kaffeemaschine_kf_3120_wh', 'idcollection_kaffeemaschine_kf_5105_weiß', 'aromaster_classic_kaffeemaschine_kf_471_white']}, {'manufacturer': 'Miele', 'products': ['cm_6160_milkperfection', 'cm_6360_milkperfection', 'cm_5310_silence', 'cm_7350_coffeepassion', 'cm_7550_coffeepassion', 'cm_7750_coffeeselect', 'cva_7440', 'cva_7840', 'cva_7845']}, {'manufacturer': 'AEG', 'products': ['cm6_1_5st']}]\n"
     ]
    }
   ],
   "source": [
    "res = factory.get_meta_client().get_products_of_all_manufacturers()\n",
    "print(res)"
   ]
  },
  {
   "cell_type": "code",
   "execution_count": 7,
   "metadata": {
    "pycharm": {
     "name": "#%%\n"
    }
   },
   "outputs": [
    {
     "name": "stdout",
     "output_type": "stream",
     "text": [
      "['cm4_1_6st', 'kf7700', 'cm6_1_5st', 'cm7_1_4mtm']\n"
     ]
    }
   ],
   "source": [
    "res = factory.get_meta_client().get_products_of_manufacturer(\"AEG\")\n",
    "print(res)"
   ]
  },
  {
   "cell_type": "code",
   "execution_count": null,
   "metadata": {
    "pycharm": {
     "name": "#%%\n"
    }
   },
   "outputs": [],
   "source": []
  }
 ],
 "metadata": {
  "kernelspec": {
   "display_name": "venv",
   "language": "python",
   "name": "python3"
  },
  "language_info": {
   "codemirror_mode": {
    "name": "ipython",
    "version": 3
   },
   "file_extension": ".py",
   "mimetype": "text/x-python",
   "name": "python",
   "nbconvert_exporter": "python",
   "pygments_lexer": "ipython3",
   "version": "3.9.0"
  },
  "orig_nbformat": 4,
  "vscode": {
   "interpreter": {
    "hash": "49e59d4ada6e0bef851f1d179af60acc08f1f5b34c75111af743fbd623efd472"
   }
  }
 },
 "nbformat": 4,
 "nbformat_minor": 2
}